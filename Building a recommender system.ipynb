{
 "cells": [
  {
   "cell_type": "code",
   "execution_count": 1,
   "metadata": {},
   "outputs": [],
   "source": [
    "from __future__ import (absolute_import, division, print_function, unicode_literals)"
   ]
  },
  {
   "cell_type": "code",
   "execution_count": 2,
   "metadata": {},
   "outputs": [],
   "source": [
    "%matplotlib inline"
   ]
  },
  {
   "cell_type": "code",
   "execution_count": 3,
   "metadata": {},
   "outputs": [],
   "source": [
    "import numpy as np\n",
    "import pandas as pd\n",
    "import matplotlib.pyplot as plt\n",
    "import pickle\n",
    "from collections import defaultdict\n",
    "\n",
    "from tqdm import tqdm_notebook as tqdm\n",
    "from nltk import word_tokenize          \n",
    "from nltk.stem import WordNetLemmatizer, PorterStemmer\n",
    "\n",
    "from sklearn.pipeline import Pipeline\n",
    "from sklearn.feature_extraction.text import TfidfVectorizer\n",
    "from sklearn.preprocessing import StandardScaler\n",
    "from sklearn.metrics.pairwise import cosine_similarity\n",
    "\n",
    "from surprise import Reader, Dataset, KNNWithMeans, SVD, accuracy\n",
    "from surprise.model_selection import train_test_split, GridSearchCV, cross_validate\n",
    "\n",
    "np.random.seed(42)"
   ]
  },
  {
   "cell_type": "markdown",
   "metadata": {},
   "source": [
    "# Link for download dataset and pickles:\n",
    "https://drive.google.com/file/d/1Jc9EtHGI2rJFGbZpkzj1X7W6lkJx6Ndz/view?usp=sharing"
   ]
  },
  {
   "cell_type": "markdown",
   "metadata": {},
   "source": [
    "# Building a recommender system \n",
    "### By Petyo Karatov\n",
    "\n"
   ]
  },
  {
   "cell_type": "markdown",
   "metadata": {},
   "source": [
    "#### Agenda:\n",
    "<ul style=\"list-style-type:square;\">\n",
    "  <li>What is a recommender system?</li>\n",
    "  \n",
    "  <li>The popularity model</li>\n",
    "  <li>Content based filtering</li>\n",
    "  <li>Recommender Systems with surprise</li>\n",
    "</ul>"
   ]
  },
  {
   "cell_type": "markdown",
   "metadata": {},
   "source": [
    "### The problem\n",
    "\n",
    "<p>&nbsp;&nbsp;&nbsp;&nbsp; A Recommender System refers to a system that is capable of predicting the future preference of a set of items for a user, and recommend the top items. One key reason why we need a recommender system in modern society is that people have too much options to use from due to the prevalence of Internet. In the past, people used to shop in a physical store, in which the items available are limited. For instance, the number of books that can be placed in a bookstore depends on the size of that store. By contrast, nowadays, the Internet allows people to access abundant resources online. Goodreads, for example, has an enormous collection of books. Although the amount of available information increased, a new problem arose as people had a hard time selecting the items they actually want to see. This is where the recommender system comes in. This article will give you a brief introduction to tree typical ways for building a recommender system, The popularity model, Content based filtering and Collaborative filtering.</p>"
   ]
  },
  {
   "cell_type": "markdown",
   "metadata": {},
   "source": [
    "### What is a recommender system?\n",
    "\n",
    "<p>&nbsp;&nbsp;&nbsp;&nbsp;A recommender system or a recommendation system (sometimes replacing 'system' with a synonym such as platform or engine) is a subclass of information filtering system that seeks to predict the \"rating\" or \"preference\" a user would give to an item. They are primarily used in commercial applications.</p>"
   ]
  },
  {
   "cell_type": "markdown",
   "metadata": {},
   "source": [
    "### Our data and use case\n",
    "\n",
    "&nbsp;&nbsp;&nbsp;&nbsp; We will be using a  <a href=\"https://github.com/zygmuntz/goodbooks-10k\">book dataset</a>  found here. It contains 10k books and 6 mil reviews (scores 1, 5).\n",
    "\n",
    "Our task is to take those ratings and suggest for each user new things to read based on his previous feedback.\n",
    "\n",
    "Formally\n",
    "\n",
    "Given * a set of users [U1, U2, …] * a set of possible elements [E1, E2, … ] * some prior interactions (relation) between Us and Es ( {seen, clicked, subscribed, bought} or a rating, or a feedback, etc..),\n",
    "\n",
    "for a given user U, predict a list of top N elements from E such as U maximizes the defined relation.\n",
    "\n",
    "As I’ve said, usually the relation is an something numeric, business defined ( amount of money, click-through-rates, churn, etc..)"
   ]
  },
  {
   "cell_type": "markdown",
   "metadata": {},
   "source": [
    "### Loading the data"
   ]
  },
  {
   "cell_type": "code",
   "execution_count": 4,
   "metadata": {},
   "outputs": [],
   "source": [
    "books = pd.read_csv(\"data/books.csv\")\n",
    "ratings = pd.read_csv(\"data/ratings.csv\")\n",
    "tags = pd.read_csv(\"data/tags.csv\")\n",
    "tags = tags.set_index('tag_id')\n",
    "book_tags = pd.read_csv(\"data/book_tags.csv\")"
   ]
  },
  {
   "cell_type": "markdown",
   "metadata": {},
   "source": [
    "### Data exploration\n",
    "\n",
    "This wrapped function tells the pandas library to display all the fields"
   ]
  },
  {
   "cell_type": "code",
   "execution_count": 5,
   "metadata": {},
   "outputs": [],
   "source": [
    "def display_all(df):\n",
    "    with pd.option_context(\"display.max_rows\", 1000, \"display.max_columns\", 1000): \n",
    "        display(df)"
   ]
  },
  {
   "cell_type": "markdown",
   "metadata": {},
   "source": [
    "Books are sorted by their popularity, as measured by number of ratings"
   ]
  },
  {
   "cell_type": "code",
   "execution_count": 6,
   "metadata": {},
   "outputs": [
    {
     "data": {
      "text/html": [
       "<div>\n",
       "<style scoped>\n",
       "    .dataframe tbody tr th:only-of-type {\n",
       "        vertical-align: middle;\n",
       "    }\n",
       "\n",
       "    .dataframe tbody tr th {\n",
       "        vertical-align: top;\n",
       "    }\n",
       "\n",
       "    .dataframe thead th {\n",
       "        text-align: right;\n",
       "    }\n",
       "</style>\n",
       "<table border=\"1\" class=\"dataframe\">\n",
       "  <thead>\n",
       "    <tr style=\"text-align: right;\">\n",
       "      <th></th>\n",
       "      <th>0</th>\n",
       "      <th>1</th>\n",
       "      <th>2</th>\n",
       "      <th>3</th>\n",
       "      <th>4</th>\n",
       "    </tr>\n",
       "  </thead>\n",
       "  <tbody>\n",
       "    <tr>\n",
       "      <td>book_id</td>\n",
       "      <td>1</td>\n",
       "      <td>2</td>\n",
       "      <td>3</td>\n",
       "      <td>4</td>\n",
       "      <td>5</td>\n",
       "    </tr>\n",
       "    <tr>\n",
       "      <td>goodreads_book_id</td>\n",
       "      <td>2767052</td>\n",
       "      <td>3</td>\n",
       "      <td>41865</td>\n",
       "      <td>2657</td>\n",
       "      <td>4671</td>\n",
       "    </tr>\n",
       "    <tr>\n",
       "      <td>best_book_id</td>\n",
       "      <td>2767052</td>\n",
       "      <td>3</td>\n",
       "      <td>41865</td>\n",
       "      <td>2657</td>\n",
       "      <td>4671</td>\n",
       "    </tr>\n",
       "    <tr>\n",
       "      <td>work_id</td>\n",
       "      <td>2792775</td>\n",
       "      <td>4640799</td>\n",
       "      <td>3212258</td>\n",
       "      <td>3275794</td>\n",
       "      <td>245494</td>\n",
       "    </tr>\n",
       "    <tr>\n",
       "      <td>books_count</td>\n",
       "      <td>272</td>\n",
       "      <td>491</td>\n",
       "      <td>226</td>\n",
       "      <td>487</td>\n",
       "      <td>1356</td>\n",
       "    </tr>\n",
       "    <tr>\n",
       "      <td>isbn</td>\n",
       "      <td>439023483</td>\n",
       "      <td>439554934</td>\n",
       "      <td>316015849</td>\n",
       "      <td>61120081</td>\n",
       "      <td>743273567</td>\n",
       "    </tr>\n",
       "    <tr>\n",
       "      <td>isbn13</td>\n",
       "      <td>9.78044e+12</td>\n",
       "      <td>9.78044e+12</td>\n",
       "      <td>9.78032e+12</td>\n",
       "      <td>9.78006e+12</td>\n",
       "      <td>9.78074e+12</td>\n",
       "    </tr>\n",
       "    <tr>\n",
       "      <td>authors</td>\n",
       "      <td>Suzanne Collins</td>\n",
       "      <td>J.K. Rowling, Mary GrandPré</td>\n",
       "      <td>Stephenie Meyer</td>\n",
       "      <td>Harper Lee</td>\n",
       "      <td>F. Scott Fitzgerald</td>\n",
       "    </tr>\n",
       "    <tr>\n",
       "      <td>original_publication_year</td>\n",
       "      <td>2008</td>\n",
       "      <td>1997</td>\n",
       "      <td>2005</td>\n",
       "      <td>1960</td>\n",
       "      <td>1925</td>\n",
       "    </tr>\n",
       "    <tr>\n",
       "      <td>original_title</td>\n",
       "      <td>The Hunger Games</td>\n",
       "      <td>Harry Potter and the Philosopher's Stone</td>\n",
       "      <td>Twilight</td>\n",
       "      <td>To Kill a Mockingbird</td>\n",
       "      <td>The Great Gatsby</td>\n",
       "    </tr>\n",
       "    <tr>\n",
       "      <td>title</td>\n",
       "      <td>The Hunger Games (The Hunger Games, #1)</td>\n",
       "      <td>Harry Potter and the Sorcerer's Stone (Harry P...</td>\n",
       "      <td>Twilight (Twilight, #1)</td>\n",
       "      <td>To Kill a Mockingbird</td>\n",
       "      <td>The Great Gatsby</td>\n",
       "    </tr>\n",
       "    <tr>\n",
       "      <td>language_code</td>\n",
       "      <td>eng</td>\n",
       "      <td>eng</td>\n",
       "      <td>en-US</td>\n",
       "      <td>eng</td>\n",
       "      <td>eng</td>\n",
       "    </tr>\n",
       "    <tr>\n",
       "      <td>average_rating</td>\n",
       "      <td>4.34</td>\n",
       "      <td>4.44</td>\n",
       "      <td>3.57</td>\n",
       "      <td>4.25</td>\n",
       "      <td>3.89</td>\n",
       "    </tr>\n",
       "    <tr>\n",
       "      <td>ratings_count</td>\n",
       "      <td>4780653</td>\n",
       "      <td>4602479</td>\n",
       "      <td>3866839</td>\n",
       "      <td>3198671</td>\n",
       "      <td>2683664</td>\n",
       "    </tr>\n",
       "    <tr>\n",
       "      <td>work_ratings_count</td>\n",
       "      <td>4942365</td>\n",
       "      <td>4800065</td>\n",
       "      <td>3916824</td>\n",
       "      <td>3340896</td>\n",
       "      <td>2773745</td>\n",
       "    </tr>\n",
       "    <tr>\n",
       "      <td>work_text_reviews_count</td>\n",
       "      <td>155254</td>\n",
       "      <td>75867</td>\n",
       "      <td>95009</td>\n",
       "      <td>72586</td>\n",
       "      <td>51992</td>\n",
       "    </tr>\n",
       "    <tr>\n",
       "      <td>ratings_1</td>\n",
       "      <td>66715</td>\n",
       "      <td>75504</td>\n",
       "      <td>456191</td>\n",
       "      <td>60427</td>\n",
       "      <td>86236</td>\n",
       "    </tr>\n",
       "    <tr>\n",
       "      <td>ratings_2</td>\n",
       "      <td>127936</td>\n",
       "      <td>101676</td>\n",
       "      <td>436802</td>\n",
       "      <td>117415</td>\n",
       "      <td>197621</td>\n",
       "    </tr>\n",
       "    <tr>\n",
       "      <td>ratings_3</td>\n",
       "      <td>560092</td>\n",
       "      <td>455024</td>\n",
       "      <td>793319</td>\n",
       "      <td>446835</td>\n",
       "      <td>606158</td>\n",
       "    </tr>\n",
       "    <tr>\n",
       "      <td>ratings_4</td>\n",
       "      <td>1481305</td>\n",
       "      <td>1156318</td>\n",
       "      <td>875073</td>\n",
       "      <td>1001952</td>\n",
       "      <td>936012</td>\n",
       "    </tr>\n",
       "    <tr>\n",
       "      <td>ratings_5</td>\n",
       "      <td>2706317</td>\n",
       "      <td>3011543</td>\n",
       "      <td>1355439</td>\n",
       "      <td>1714267</td>\n",
       "      <td>947718</td>\n",
       "    </tr>\n",
       "    <tr>\n",
       "      <td>image_url</td>\n",
       "      <td>https://images.gr-assets.com/books/1447303603m...</td>\n",
       "      <td>https://images.gr-assets.com/books/1474154022m...</td>\n",
       "      <td>https://images.gr-assets.com/books/1361039443m...</td>\n",
       "      <td>https://images.gr-assets.com/books/1361975680m...</td>\n",
       "      <td>https://images.gr-assets.com/books/1490528560m...</td>\n",
       "    </tr>\n",
       "    <tr>\n",
       "      <td>small_image_url</td>\n",
       "      <td>https://images.gr-assets.com/books/1447303603s...</td>\n",
       "      <td>https://images.gr-assets.com/books/1474154022s...</td>\n",
       "      <td>https://images.gr-assets.com/books/1361039443s...</td>\n",
       "      <td>https://images.gr-assets.com/books/1361975680s...</td>\n",
       "      <td>https://images.gr-assets.com/books/1490528560s...</td>\n",
       "    </tr>\n",
       "  </tbody>\n",
       "</table>\n",
       "</div>"
      ],
      "text/plain": [
       "                                                                           0  \\\n",
       "book_id                                                                    1   \n",
       "goodreads_book_id                                                    2767052   \n",
       "best_book_id                                                         2767052   \n",
       "work_id                                                              2792775   \n",
       "books_count                                                              272   \n",
       "isbn                                                               439023483   \n",
       "isbn13                                                           9.78044e+12   \n",
       "authors                                                      Suzanne Collins   \n",
       "original_publication_year                                               2008   \n",
       "original_title                                              The Hunger Games   \n",
       "title                                The Hunger Games (The Hunger Games, #1)   \n",
       "language_code                                                            eng   \n",
       "average_rating                                                          4.34   \n",
       "ratings_count                                                        4780653   \n",
       "work_ratings_count                                                   4942365   \n",
       "work_text_reviews_count                                               155254   \n",
       "ratings_1                                                              66715   \n",
       "ratings_2                                                             127936   \n",
       "ratings_3                                                             560092   \n",
       "ratings_4                                                            1481305   \n",
       "ratings_5                                                            2706317   \n",
       "image_url                  https://images.gr-assets.com/books/1447303603m...   \n",
       "small_image_url            https://images.gr-assets.com/books/1447303603s...   \n",
       "\n",
       "                                                                           1  \\\n",
       "book_id                                                                    2   \n",
       "goodreads_book_id                                                          3   \n",
       "best_book_id                                                               3   \n",
       "work_id                                                              4640799   \n",
       "books_count                                                              491   \n",
       "isbn                                                               439554934   \n",
       "isbn13                                                           9.78044e+12   \n",
       "authors                                          J.K. Rowling, Mary GrandPré   \n",
       "original_publication_year                                               1997   \n",
       "original_title                      Harry Potter and the Philosopher's Stone   \n",
       "title                      Harry Potter and the Sorcerer's Stone (Harry P...   \n",
       "language_code                                                            eng   \n",
       "average_rating                                                          4.44   \n",
       "ratings_count                                                        4602479   \n",
       "work_ratings_count                                                   4800065   \n",
       "work_text_reviews_count                                                75867   \n",
       "ratings_1                                                              75504   \n",
       "ratings_2                                                             101676   \n",
       "ratings_3                                                             455024   \n",
       "ratings_4                                                            1156318   \n",
       "ratings_5                                                            3011543   \n",
       "image_url                  https://images.gr-assets.com/books/1474154022m...   \n",
       "small_image_url            https://images.gr-assets.com/books/1474154022s...   \n",
       "\n",
       "                                                                           2  \\\n",
       "book_id                                                                    3   \n",
       "goodreads_book_id                                                      41865   \n",
       "best_book_id                                                           41865   \n",
       "work_id                                                              3212258   \n",
       "books_count                                                              226   \n",
       "isbn                                                               316015849   \n",
       "isbn13                                                           9.78032e+12   \n",
       "authors                                                      Stephenie Meyer   \n",
       "original_publication_year                                               2005   \n",
       "original_title                                                      Twilight   \n",
       "title                                                Twilight (Twilight, #1)   \n",
       "language_code                                                          en-US   \n",
       "average_rating                                                          3.57   \n",
       "ratings_count                                                        3866839   \n",
       "work_ratings_count                                                   3916824   \n",
       "work_text_reviews_count                                                95009   \n",
       "ratings_1                                                             456191   \n",
       "ratings_2                                                             436802   \n",
       "ratings_3                                                             793319   \n",
       "ratings_4                                                             875073   \n",
       "ratings_5                                                            1355439   \n",
       "image_url                  https://images.gr-assets.com/books/1361039443m...   \n",
       "small_image_url            https://images.gr-assets.com/books/1361039443s...   \n",
       "\n",
       "                                                                           3  \\\n",
       "book_id                                                                    4   \n",
       "goodreads_book_id                                                       2657   \n",
       "best_book_id                                                            2657   \n",
       "work_id                                                              3275794   \n",
       "books_count                                                              487   \n",
       "isbn                                                                61120081   \n",
       "isbn13                                                           9.78006e+12   \n",
       "authors                                                           Harper Lee   \n",
       "original_publication_year                                               1960   \n",
       "original_title                                         To Kill a Mockingbird   \n",
       "title                                                  To Kill a Mockingbird   \n",
       "language_code                                                            eng   \n",
       "average_rating                                                          4.25   \n",
       "ratings_count                                                        3198671   \n",
       "work_ratings_count                                                   3340896   \n",
       "work_text_reviews_count                                                72586   \n",
       "ratings_1                                                              60427   \n",
       "ratings_2                                                             117415   \n",
       "ratings_3                                                             446835   \n",
       "ratings_4                                                            1001952   \n",
       "ratings_5                                                            1714267   \n",
       "image_url                  https://images.gr-assets.com/books/1361975680m...   \n",
       "small_image_url            https://images.gr-assets.com/books/1361975680s...   \n",
       "\n",
       "                                                                           4  \n",
       "book_id                                                                    5  \n",
       "goodreads_book_id                                                       4671  \n",
       "best_book_id                                                            4671  \n",
       "work_id                                                               245494  \n",
       "books_count                                                             1356  \n",
       "isbn                                                               743273567  \n",
       "isbn13                                                           9.78074e+12  \n",
       "authors                                                  F. Scott Fitzgerald  \n",
       "original_publication_year                                               1925  \n",
       "original_title                                              The Great Gatsby  \n",
       "title                                                       The Great Gatsby  \n",
       "language_code                                                            eng  \n",
       "average_rating                                                          3.89  \n",
       "ratings_count                                                        2683664  \n",
       "work_ratings_count                                                   2773745  \n",
       "work_text_reviews_count                                                51992  \n",
       "ratings_1                                                              86236  \n",
       "ratings_2                                                             197621  \n",
       "ratings_3                                                             606158  \n",
       "ratings_4                                                             936012  \n",
       "ratings_5                                                             947718  \n",
       "image_url                  https://images.gr-assets.com/books/1490528560m...  \n",
       "small_image_url            https://images.gr-assets.com/books/1490528560s...  "
      ]
     },
     "metadata": {},
     "output_type": "display_data"
    }
   ],
   "source": [
    "display_all(books.head().T)"
   ]
  },
  {
   "cell_type": "markdown",
   "metadata": {},
   "source": [
    "We have 10k books"
   ]
  },
  {
   "cell_type": "code",
   "execution_count": 7,
   "metadata": {},
   "outputs": [
    {
     "data": {
      "text/plain": [
       "10000"
      ]
     },
     "execution_count": 7,
     "metadata": {},
     "output_type": "execute_result"
    }
   ],
   "source": [
    "len(books)"
   ]
  },
  {
   "cell_type": "markdown",
   "metadata": {},
   "source": [
    "Ratings are sorted chronologically, oldest first."
   ]
  },
  {
   "cell_type": "code",
   "execution_count": 8,
   "metadata": {},
   "outputs": [
    {
     "data": {
      "text/html": [
       "<div>\n",
       "<style scoped>\n",
       "    .dataframe tbody tr th:only-of-type {\n",
       "        vertical-align: middle;\n",
       "    }\n",
       "\n",
       "    .dataframe tbody tr th {\n",
       "        vertical-align: top;\n",
       "    }\n",
       "\n",
       "    .dataframe thead th {\n",
       "        text-align: right;\n",
       "    }\n",
       "</style>\n",
       "<table border=\"1\" class=\"dataframe\">\n",
       "  <thead>\n",
       "    <tr style=\"text-align: right;\">\n",
       "      <th></th>\n",
       "      <th>user_id</th>\n",
       "      <th>book_id</th>\n",
       "      <th>rating</th>\n",
       "    </tr>\n",
       "  </thead>\n",
       "  <tbody>\n",
       "    <tr>\n",
       "      <td>0</td>\n",
       "      <td>1</td>\n",
       "      <td>258</td>\n",
       "      <td>5</td>\n",
       "    </tr>\n",
       "    <tr>\n",
       "      <td>1</td>\n",
       "      <td>2</td>\n",
       "      <td>4081</td>\n",
       "      <td>4</td>\n",
       "    </tr>\n",
       "    <tr>\n",
       "      <td>2</td>\n",
       "      <td>2</td>\n",
       "      <td>260</td>\n",
       "      <td>5</td>\n",
       "    </tr>\n",
       "    <tr>\n",
       "      <td>3</td>\n",
       "      <td>2</td>\n",
       "      <td>9296</td>\n",
       "      <td>5</td>\n",
       "    </tr>\n",
       "    <tr>\n",
       "      <td>4</td>\n",
       "      <td>2</td>\n",
       "      <td>2318</td>\n",
       "      <td>3</td>\n",
       "    </tr>\n",
       "  </tbody>\n",
       "</table>\n",
       "</div>"
      ],
      "text/plain": [
       "   user_id  book_id  rating\n",
       "0        1      258       5\n",
       "1        2     4081       4\n",
       "2        2      260       5\n",
       "3        2     9296       5\n",
       "4        2     2318       3"
      ]
     },
     "execution_count": 8,
     "metadata": {},
     "output_type": "execute_result"
    }
   ],
   "source": [
    "ratings.head()"
   ]
  },
  {
   "cell_type": "code",
   "execution_count": 9,
   "metadata": {},
   "outputs": [
    {
     "data": {
      "text/plain": [
       "(1, 5)"
      ]
     },
     "execution_count": 9,
     "metadata": {},
     "output_type": "execute_result"
    }
   ],
   "source": [
    "ratings.rating.min(), ratings.rating.max()"
   ]
  },
  {
   "cell_type": "code",
   "execution_count": 10,
   "metadata": {},
   "outputs": [
    {
     "data": {
      "image/png": "[encoded data removed]",
      "text/plain": [
       "<Figure size 432x288 with 1 Axes>"
      ]
     },
     "metadata": {
      "needs_background": "light"
     },
     "output_type": "display_data"
    }
   ],
   "source": [
    "ratings.rating.hist(bins = 5, grid=False)\n",
    "plt.xticks(np.arange(1, 6))\n",
    "plt.title(\"Rating frequency\")\n",
    "plt.xlabel(\"Rating\")\n",
    "plt.ylabel(\"Frequency\")\n",
    "plt.show()"
   ]
  },
  {
   "cell_type": "markdown",
   "metadata": {},
   "source": [
    "It appears that 4 is the most popular rating. There are relatively few ones and twos."
   ]
  },
  {
   "cell_type": "code",
   "execution_count": 11,
   "metadata": {},
   "outputs": [
    {
     "data": {
      "text/plain": [
       "5976479"
      ]
     },
     "execution_count": 11,
     "metadata": {},
     "output_type": "execute_result"
    }
   ],
   "source": [
    "len(ratings)"
   ]
  },
  {
   "cell_type": "markdown",
   "metadata": {},
   "source": [
    "Most books have a few hundred reviews, but some have as few as eight."
   ]
  },
  {
   "cell_type": "code",
   "execution_count": 12,
   "metadata": {},
   "outputs": [
    {
     "data": {
      "text/html": [
       "<div>\n",
       "<style scoped>\n",
       "    .dataframe tbody tr th:only-of-type {\n",
       "        vertical-align: middle;\n",
       "    }\n",
       "\n",
       "    .dataframe tbody tr th {\n",
       "        vertical-align: top;\n",
       "    }\n",
       "\n",
       "    .dataframe thead th {\n",
       "        text-align: right;\n",
       "    }\n",
       "</style>\n",
       "<table border=\"1\" class=\"dataframe\">\n",
       "  <thead>\n",
       "    <tr style=\"text-align: right;\">\n",
       "      <th></th>\n",
       "      <th>book_id</th>\n",
       "    </tr>\n",
       "  </thead>\n",
       "  <tbody>\n",
       "    <tr>\n",
       "      <td>count</td>\n",
       "      <td>10000.000000</td>\n",
       "    </tr>\n",
       "    <tr>\n",
       "      <td>mean</td>\n",
       "      <td>597.647900</td>\n",
       "    </tr>\n",
       "    <tr>\n",
       "      <td>std</td>\n",
       "      <td>1267.289788</td>\n",
       "    </tr>\n",
       "    <tr>\n",
       "      <td>min</td>\n",
       "      <td>8.000000</td>\n",
       "    </tr>\n",
       "    <tr>\n",
       "      <td>25%</td>\n",
       "      <td>155.000000</td>\n",
       "    </tr>\n",
       "    <tr>\n",
       "      <td>50%</td>\n",
       "      <td>248.000000</td>\n",
       "    </tr>\n",
       "    <tr>\n",
       "      <td>75%</td>\n",
       "      <td>503.000000</td>\n",
       "    </tr>\n",
       "    <tr>\n",
       "      <td>max</td>\n",
       "      <td>22806.000000</td>\n",
       "    </tr>\n",
       "  </tbody>\n",
       "</table>\n",
       "</div>"
      ],
      "text/plain": [
       "            book_id\n",
       "count  10000.000000\n",
       "mean     597.647900\n",
       "std     1267.289788\n",
       "min        8.000000\n",
       "25%      155.000000\n",
       "50%      248.000000\n",
       "75%      503.000000\n",
       "max    22806.000000"
      ]
     },
     "execution_count": 12,
     "metadata": {},
     "output_type": "execute_result"
    }
   ],
   "source": [
    "reviews_per_book = ratings.groupby('book_id').book_id.apply(lambda x:len(x))\n",
    "reviews_per_book.to_frame().describe()"
   ]
  },
  {
   "cell_type": "markdown",
   "metadata": {},
   "source": [
    "## Popularity model\n",
    "\n",
    "A common baseline approach is the Popularity model.\n",
    "\n",
    "This model is not actually personalized - it simply recommends to a user the most popular items that the user has not previously consumed.\n",
    "\n",
    "As the popularity accounts for the “wisdom of the crowds”, it usually provides good recommendations, generally interesting for most people."
   ]
  },
  {
   "cell_type": "code",
   "execution_count": 13,
   "metadata": {},
   "outputs": [
    {
     "data": {
      "text/html": [
       "<div>\n",
       "<style scoped>\n",
       "    .dataframe tbody tr th:only-of-type {\n",
       "        vertical-align: middle;\n",
       "    }\n",
       "\n",
       "    .dataframe tbody tr th {\n",
       "        vertical-align: top;\n",
       "    }\n",
       "\n",
       "    .dataframe thead th {\n",
       "        text-align: right;\n",
       "    }\n",
       "</style>\n",
       "<table border=\"1\" class=\"dataframe\">\n",
       "  <thead>\n",
       "    <tr style=\"text-align: right;\">\n",
       "      <th></th>\n",
       "      <th>book_id</th>\n",
       "      <th>rating</th>\n",
       "      <th>users</th>\n",
       "      <th>title</th>\n",
       "      <th>authors</th>\n",
       "    </tr>\n",
       "  </thead>\n",
       "  <tbody>\n",
       "    <tr>\n",
       "      <td>0</td>\n",
       "      <td>1</td>\n",
       "      <td>97603</td>\n",
       "      <td>22806</td>\n",
       "      <td>The Hunger Games (The Hunger Games, #1)</td>\n",
       "      <td>Suzanne Collins</td>\n",
       "    </tr>\n",
       "    <tr>\n",
       "      <td>1</td>\n",
       "      <td>2</td>\n",
       "      <td>95077</td>\n",
       "      <td>21850</td>\n",
       "      <td>Harry Potter and the Sorcerer's Stone (Harry P...</td>\n",
       "      <td>J.K. Rowling, Mary GrandPré</td>\n",
       "    </tr>\n",
       "    <tr>\n",
       "      <td>2</td>\n",
       "      <td>4</td>\n",
       "      <td>82639</td>\n",
       "      <td>19088</td>\n",
       "      <td>To Kill a Mockingbird</td>\n",
       "      <td>Harper Lee</td>\n",
       "    </tr>\n",
       "    <tr>\n",
       "      <td>3</td>\n",
       "      <td>18</td>\n",
       "      <td>70059</td>\n",
       "      <td>15855</td>\n",
       "      <td>Harry Potter and the Prisoner of Azkaban (Harr...</td>\n",
       "      <td>J.K. Rowling, Mary GrandPré, Rufus Beck</td>\n",
       "    </tr>\n",
       "    <tr>\n",
       "      <td>4</td>\n",
       "      <td>25</td>\n",
       "      <td>69265</td>\n",
       "      <td>15304</td>\n",
       "      <td>Harry Potter and the Deathly Hallows (Harry Po...</td>\n",
       "      <td>J.K. Rowling, Mary GrandPré</td>\n",
       "    </tr>\n",
       "  </tbody>\n",
       "</table>\n",
       "</div>"
      ],
      "text/plain": [
       "   book_id  rating  users                                              title  \\\n",
       "0        1   97603  22806            The Hunger Games (The Hunger Games, #1)   \n",
       "1        2   95077  21850  Harry Potter and the Sorcerer's Stone (Harry P...   \n",
       "2        4   82639  19088                              To Kill a Mockingbird   \n",
       "3       18   70059  15855  Harry Potter and the Prisoner of Azkaban (Harr...   \n",
       "4       25   69265  15304  Harry Potter and the Deathly Hallows (Harry Po...   \n",
       "\n",
       "                                   authors  \n",
       "0                          Suzanne Collins  \n",
       "1              J.K. Rowling, Mary GrandPré  \n",
       "2                               Harper Lee  \n",
       "3  J.K. Rowling, Mary GrandPré, Rufus Beck  \n",
       "4              J.K. Rowling, Mary GrandPré  "
      ]
     },
     "execution_count": 13,
     "metadata": {},
     "output_type": "execute_result"
    }
   ],
   "source": [
    "book_ratings = ratings.groupby('book_id').size().reset_index(name='users')\n",
    "book_popularity = ratings.groupby('book_id')['rating'].sum().sort_values(ascending=False).reset_index()\n",
    "book_popularity = pd.merge(book_popularity, book_ratings, how='inner', on=['book_id'])\n",
    "book_popularity = pd.merge(book_popularity, books[['book_id', 'title', 'authors']], how='inner', on=['book_id'])\n",
    "book_popularity = book_popularity.sort_values(by=['rating'], ascending=False)\n",
    "book_popularity.head()"
   ]
  },
  {
   "cell_type": "markdown",
   "metadata": {},
   "source": [
    "Unfortunately, this strategy depends on what we rank on….\n",
    "Let’s imagine we have another way to rank this list. (Above, books are sorted by their popularity, as measured by number of ratings.)\n",
    "Let’s imagine we want to sort books by their average rating ( i.e. sum(ratings) / len(ratings))"
   ]
  },
  {
   "cell_type": "code",
   "execution_count": 14,
   "metadata": {},
   "outputs": [
    {
     "data": {
      "text/html": [
       "<div>\n",
       "<style scoped>\n",
       "    .dataframe tbody tr th:only-of-type {\n",
       "        vertical-align: middle;\n",
       "    }\n",
       "\n",
       "    .dataframe tbody tr th {\n",
       "        vertical-align: top;\n",
       "    }\n",
       "\n",
       "    .dataframe thead th {\n",
       "        text-align: right;\n",
       "    }\n",
       "</style>\n",
       "<table border=\"1\" class=\"dataframe\">\n",
       "  <thead>\n",
       "    <tr style=\"text-align: right;\">\n",
       "      <th></th>\n",
       "      <th>book_id</th>\n",
       "      <th>rating</th>\n",
       "      <th>users</th>\n",
       "      <th>title</th>\n",
       "      <th>authors</th>\n",
       "    </tr>\n",
       "  </thead>\n",
       "  <tbody>\n",
       "    <tr>\n",
       "      <td>2108</td>\n",
       "      <td>3628</td>\n",
       "      <td>4.829876</td>\n",
       "      <td>482</td>\n",
       "      <td>The Complete Calvin and Hobbes</td>\n",
       "      <td>Bill Watterson</td>\n",
       "    </tr>\n",
       "    <tr>\n",
       "      <td>9206</td>\n",
       "      <td>7947</td>\n",
       "      <td>4.818182</td>\n",
       "      <td>88</td>\n",
       "      <td>ESV Study Bible</td>\n",
       "      <td>Anonymous, Lane T. Dennis, Wayne A. Grudem</td>\n",
       "    </tr>\n",
       "    <tr>\n",
       "      <td>6648</td>\n",
       "      <td>9566</td>\n",
       "      <td>4.768707</td>\n",
       "      <td>147</td>\n",
       "      <td>Attack of the Deranged Mutant Killer Monster S...</td>\n",
       "      <td>Bill Watterson</td>\n",
       "    </tr>\n",
       "    <tr>\n",
       "      <td>4766</td>\n",
       "      <td>6920</td>\n",
       "      <td>4.766355</td>\n",
       "      <td>214</td>\n",
       "      <td>The Indispensable Calvin and Hobbes</td>\n",
       "      <td>Bill Watterson</td>\n",
       "    </tr>\n",
       "    <tr>\n",
       "      <td>5702</td>\n",
       "      <td>8978</td>\n",
       "      <td>4.761364</td>\n",
       "      <td>176</td>\n",
       "      <td>The Revenge of the Baby-Sat</td>\n",
       "      <td>Bill Watterson</td>\n",
       "    </tr>\n",
       "    <tr>\n",
       "      <td>3904</td>\n",
       "      <td>6361</td>\n",
       "      <td>4.760456</td>\n",
       "      <td>263</td>\n",
       "      <td>There's Treasure Everywhere: A Calvin and Hobb...</td>\n",
       "      <td>Bill Watterson</td>\n",
       "    </tr>\n",
       "    <tr>\n",
       "      <td>4228</td>\n",
       "      <td>6590</td>\n",
       "      <td>4.757202</td>\n",
       "      <td>243</td>\n",
       "      <td>The Authoritative Calvin and Hobbes: A Calvin ...</td>\n",
       "      <td>Bill Watterson</td>\n",
       "    </tr>\n",
       "    <tr>\n",
       "      <td>2695</td>\n",
       "      <td>4483</td>\n",
       "      <td>4.747396</td>\n",
       "      <td>384</td>\n",
       "      <td>It's a Magical World: A Calvin and Hobbes Coll...</td>\n",
       "      <td>Bill Watterson</td>\n",
       "    </tr>\n",
       "    <tr>\n",
       "      <td>3627</td>\n",
       "      <td>3275</td>\n",
       "      <td>4.736842</td>\n",
       "      <td>285</td>\n",
       "      <td>Harry Potter Boxed Set, Books 1-5 (Harry Potte...</td>\n",
       "      <td>J.K. Rowling, Mary GrandPré</td>\n",
       "    </tr>\n",
       "    <tr>\n",
       "      <td>1579</td>\n",
       "      <td>1788</td>\n",
       "      <td>4.728528</td>\n",
       "      <td>652</td>\n",
       "      <td>The Calvin and Hobbes Tenth Anniversary Book</td>\n",
       "      <td>Bill Watterson</td>\n",
       "    </tr>\n",
       "  </tbody>\n",
       "</table>\n",
       "</div>"
      ],
      "text/plain": [
       "      book_id    rating  users  \\\n",
       "2108     3628  4.829876    482   \n",
       "9206     7947  4.818182     88   \n",
       "6648     9566  4.768707    147   \n",
       "4766     6920  4.766355    214   \n",
       "5702     8978  4.761364    176   \n",
       "3904     6361  4.760456    263   \n",
       "4228     6590  4.757202    243   \n",
       "2695     4483  4.747396    384   \n",
       "3627     3275  4.736842    285   \n",
       "1579     1788  4.728528    652   \n",
       "\n",
       "                                                  title  \\\n",
       "2108                     The Complete Calvin and Hobbes   \n",
       "9206                                    ESV Study Bible   \n",
       "6648  Attack of the Deranged Mutant Killer Monster S...   \n",
       "4766                The Indispensable Calvin and Hobbes   \n",
       "5702                        The Revenge of the Baby-Sat   \n",
       "3904  There's Treasure Everywhere: A Calvin and Hobb...   \n",
       "4228  The Authoritative Calvin and Hobbes: A Calvin ...   \n",
       "2695  It's a Magical World: A Calvin and Hobbes Coll...   \n",
       "3627  Harry Potter Boxed Set, Books 1-5 (Harry Potte...   \n",
       "1579       The Calvin and Hobbes Tenth Anniversary Book   \n",
       "\n",
       "                                         authors  \n",
       "2108                              Bill Watterson  \n",
       "9206  Anonymous, Lane T. Dennis, Wayne A. Grudem  \n",
       "6648                              Bill Watterson  \n",
       "4766                              Bill Watterson  \n",
       "5702                              Bill Watterson  \n",
       "3904                              Bill Watterson  \n",
       "4228                              Bill Watterson  \n",
       "2695                              Bill Watterson  \n",
       "3627                 J.K. Rowling, Mary GrandPré  \n",
       "1579                              Bill Watterson  "
      ]
     },
     "execution_count": 14,
     "metadata": {},
     "output_type": "execute_result"
    }
   ],
   "source": [
    "book_popularity.rating = book_popularity.rating / book_popularity.users\n",
    "book_popularity = book_popularity.sort_values(by=['rating'], ascending=False)\n",
    "book_popularity.head(n=10)"
   ]
  },
  {
   "cell_type": "markdown",
   "metadata": {},
   "source": [
    "?! Maybe this Bill Watterson pays people for good reviews..\n",
    "\n",
    "This of course is insufficient advice for good books. Title fanatics may give high scores for unknown books. Since they are the only ones that do reviews, the books generally get good scores."
   ]
  },
  {
   "cell_type": "markdown",
   "metadata": {},
   "source": [
    "# Content based filtering\n",
    "\n",
    "The aim of this approach is to group similar object together and recommend new objects from the same categories that the user already purchased\n",
    "\n",
    "We already have tags for books in this dataset, let’s use them!"
   ]
  },
  {
   "cell_type": "code",
   "execution_count": 15,
   "metadata": {},
   "outputs": [
    {
     "data": {
      "text/plain": [
       "{'in', 'midnight', 'paris'}"
      ]
     },
     "execution_count": 15,
     "metadata": {},
     "output_type": "execute_result"
    }
   ],
   "source": [
    "def get_tag_name(tag_id):\n",
    "    return {word for word in tags.loc[tag_id].tag_name.split('-') if word}\n",
    "\n",
    "get_tag_name(20000)"
   ]
  },
  {
   "cell_type": "markdown",
   "metadata": {},
   "source": [
    "def get_tag_name(tag_id):\n",
    "    return {word for word in tags.loc[tag_id].tag_name.split('-') if word}\n",
    "\n",
    "get_tag_name(20000)"
   ]
  },
  {
   "cell_type": "markdown",
   "metadata": {},
   "source": [
    "We’re going to accumulate all the tags of a book in a single datastructure"
   ]
  },
  {
   "cell_type": "code",
   "execution_count": 16,
   "metadata": {},
   "outputs": [],
   "source": [
    "# book_tags_dict = dict()\n",
    "# for book_id, tag_id, _ in tqdm(book_tags.values):\n",
    "#     tags_of_book = book_tags_dict.setdefault(book_id, set()) \n",
    "#     tags_of_book |= get_tag_name(tag_id)"
   ]
  },
  {
   "cell_type": "code",
   "execution_count": 17,
   "metadata": {},
   "outputs": [],
   "source": [
    "# pickle.dump(book_tags_dict, open(\"book_tags_dict.p\", \"wb\" ))"
   ]
  },
  {
   "cell_type": "code",
   "execution_count": 18,
   "metadata": {},
   "outputs": [],
   "source": [
    "book_tags_dict = pickle.load(open( \"book_tags_dict.p\", \"rb\" ))"
   ]
  },
  {
   "cell_type": "code",
   "execution_count": 19,
   "metadata": {},
   "outputs": [
    {
     "data": {
      "text/plain": [
       "10000"
      ]
     },
     "execution_count": 19,
     "metadata": {},
     "output_type": "execute_result"
    }
   ],
   "source": [
    "len(book_tags_dict)"
   ]
  },
  {
   "cell_type": "markdown",
   "metadata": {},
   "source": [
    "Let’s see the tags for one book"
   ]
  },
  {
   "cell_type": "code",
   "execution_count": 20,
   "metadata": {},
   "outputs": [
    {
     "data": {
      "text/plain": [
       "'philosophy novel series unread novels short i audiobooks all book e favourites my future sf fantascienza re scanned classic frank and paperback default science ficción books shelfari read speculative library ebooks audiobook audible chronicles finished politics general epic own herbert fiction calibre it fi to adult religion home currently sci american fantasy dune place ficcion 20th imaginary s time scifi literature bought classics ciencia century sff up audio space f english ebook kindle on bookshelf owned 1980s adventure opera not stories get reading buy in gave favorites sciencefiction'"
      ]
     },
     "execution_count": 20,
     "metadata": {},
     "output_type": "execute_result"
    }
   ],
   "source": [
    "\" \".join(book_tags_dict[105])"
   ]
  },
  {
   "cell_type": "markdown",
   "metadata": {},
   "source": [
    "And the book is…"
   ]
  },
  {
   "cell_type": "code",
   "execution_count": 21,
   "metadata": {},
   "outputs": [
    {
     "data": {
      "text/html": [
       "<div>\n",
       "<style scoped>\n",
       "    .dataframe tbody tr th:only-of-type {\n",
       "        vertical-align: middle;\n",
       "    }\n",
       "\n",
       "    .dataframe tbody tr th {\n",
       "        vertical-align: top;\n",
       "    }\n",
       "\n",
       "    .dataframe thead th {\n",
       "        text-align: right;\n",
       "    }\n",
       "</style>\n",
       "<table border=\"1\" class=\"dataframe\">\n",
       "  <thead>\n",
       "    <tr style=\"text-align: right;\">\n",
       "      <th></th>\n",
       "      <th>book_id</th>\n",
       "      <th>title</th>\n",
       "      <th>authors</th>\n",
       "    </tr>\n",
       "  </thead>\n",
       "  <tbody>\n",
       "    <tr>\n",
       "      <td>2816</td>\n",
       "      <td>2817</td>\n",
       "      <td>Chapterhouse: Dune (Dune Chronicles #6)</td>\n",
       "      <td>Frank Herbert</td>\n",
       "    </tr>\n",
       "  </tbody>\n",
       "</table>\n",
       "</div>"
      ],
      "text/plain": [
       "      book_id                                    title        authors\n",
       "2816     2817  Chapterhouse: Dune (Dune Chronicles #6)  Frank Herbert"
      ]
     },
     "execution_count": 21,
     "metadata": {},
     "output_type": "execute_result"
    }
   ],
   "source": [
    "books.loc[books.goodreads_book_id == 105][['book_id', 'title', 'authors']]"
   ]
  },
  {
   "cell_type": "markdown",
   "metadata": {},
   "source": [
    "There are two types of ids in this dataset: goodreads_book_id and book_id we will make two dicts to switch from one to the other"
   ]
  },
  {
   "cell_type": "code",
   "execution_count": 22,
   "metadata": {},
   "outputs": [
    {
     "data": {
      "text/plain": [
       "(105, 2817)"
      ]
     },
     "execution_count": 22,
     "metadata": {},
     "output_type": "execute_result"
    }
   ],
   "source": [
    "goodread2id = {goodreads_book_id: book_id for book_id, goodreads_book_id in books[['book_id', 'goodreads_book_id']].values}\n",
    "id2goodread = dict(zip(goodread2id.values(), goodread2id.keys()))\n",
    "\n",
    "id2goodread[2817], goodread2id[105]"
   ]
  },
  {
   "cell_type": "markdown",
   "metadata": {},
   "source": [
    "Then we’re going to do convert the tags into a numpy plain array that we aim to process later. The row position of a tag should match the book_id. Because these start from 1, we will add a DUMMY padding element."
   ]
  },
  {
   "cell_type": "code",
   "execution_count": 23,
   "metadata": {},
   "outputs": [
    {
     "data": {
      "text/plain": [
       "array([['0', 'DUMMY'],\n",
       "       ['1',\n",
       "        '2011 2010 novel series games novels of i audiobooks faves survival club all favourite teen book e favourites completed my dystopias future sf distopian re suspense thriller default triangle once more the trilogy science books shelfari read speculative library ebooks audiobook finished star 5 stars own reads fiction than romance reread hunger it fi reviewed to adult apocalyptic post collins currently sci coming age fantasy favorite time lit scifi dystopian contemporary drama audio 2013 suzanne english ebook kindle owned distopia adventure borrowed 2012 young ya action love favs reading buy loved in dystopia futuristic favorites 2014'],\n",
       "       ['2',\n",
       "        'magic novel series 2016 novels 2017 i audiobooks witches faves grade all favourite teen favourites paranormal my jk re supernatural classic default once more children science british shelf books wizards shelfari read library urban audiobook friendship 5 stars own reads fiction mystery than kids reread england it fi childrens to potter adult currently sci fantasy rowling childhood middle k favorite s time lit scifi harry literature juvenile classics contemporary j audio 2013 english ebook kindle on rereads youth bookshelf owned adventure young ya 2015 favs reading buy in favorites 2014'],\n",
       "       ['3',\n",
       "        'series novels i audiobooks faves club all teen book did favourites paranormal completed my re supernatural vamps saga default triangle youngadult more adults once guilty pnr science never shelf high books stephanie shelfari read library urban audiobook meyer again finished 5 werewolves stars own fiction than romance vampire 2009 stephenie reread movie it fi romantic vampires to adult pleasure already pleasures currently sci american fantasy first 2008 favorite time lit scifi have finish séries school contemporary drama chick english ebook kindle on bookshelf owned young ya dnf not love reading abandoned in meh horror favorites movies twilight'],\n",
       "       ['4',\n",
       "        'must novel banned 2016 novels of i audiobooks rory faves club all favourite history book southern favourites my re racism classic default 1001 the usa high books before shelfari read library audiobook again bookclub 5 general stars own lee reads list fiction harper mystery reread realistic it to adult wish modern you required currently historical coming age american childhood crime pulitzer 20th favorite time lit literature for gilmore classics contemporary school century drama clàssics audio challenge english ebook kindle die owned race family young ya 2015 prize literary reading buy in favorites 2014']],\n",
       "      dtype='<U970')"
      ]
     },
     "execution_count": 23,
     "metadata": {},
     "output_type": "execute_result"
    }
   ],
   "source": [
    "np_tags = np.array(sorted([[0, \"DUMMY\"]] + [[goodread2id[id], \" \".join(tags)] for id, tags in book_tags_dict.items()]))\n",
    "np_tags[:5]"
   ]
  },
  {
   "cell_type": "markdown",
   "metadata": {},
   "source": [
    "Next up we want to process the tags but if you look closely there are many words that have the same meaning but are slighly different (because of the context in which they are used).\n",
    "\n",
    "We’d like to normalize them as much as possible so as to keep the overall vocabulary small.\n",
    "\n",
    "This process can be accomplished through stemming and lemmatization. Let me show you an example:"
   ]
  },
  {
   "cell_type": "code",
   "execution_count": 24,
   "metadata": {},
   "outputs": [
    {
     "data": {
      "text/plain": [
       "'autobiograph'"
      ]
     },
     "execution_count": 24,
     "metadata": {},
     "output_type": "execute_result"
    }
   ],
   "source": [
    "stemmer = PorterStemmer()\n",
    "stemmer.stem('autobiographical')"
   ]
  },
  {
   "cell_type": "markdown",
   "metadata": {},
   "source": [
    "Lemmatisation is the process of grouping together the inflected forms of a word so they can be analysed as a single item, identified by the word’s lemma, or dictionary form.\n",
    "\n",
    "Stamming, is the process of reducing inflected words to their word stem, base or root form—generally a written word form."
   ]
  },
  {
   "cell_type": "code",
   "execution_count": 25,
   "metadata": {},
   "outputs": [],
   "source": [
    "class LemmaTokenizer:\n",
    "    def __init__(self):\n",
    "        self.wnl = WordNetLemmatizer()\n",
    "        self.stm = PorterStemmer()\n",
    "    def __call__(self, doc):\n",
    "        return [self.stm.stem(self.wnl.lemmatize(t)) for t in word_tokenize(doc)]"
   ]
  },
  {
   "cell_type": "markdown",
   "metadata": {},
   "source": [
    "After this we’re ready to process the data.\n",
    "\n",
    "We will build a sklearn pipeline to process the tags.\n",
    "\n",
    "We will first be using a tf-idf metric customized to tokenize words with the above implemented Lemmer and Stemmer class. Then we will use a StandardScaler transform to make all the values in the resulting matrix [0, 1] bound."
   ]
  },
  {
   "cell_type": "code",
   "execution_count": 26,
   "metadata": {},
   "outputs": [],
   "source": [
    "# p = Pipeline([\n",
    "#     ('vectorizer', TfidfVectorizer(\n",
    "#         tokenizer=LemmaTokenizer(),\n",
    "#         strip_accents='unicode',\n",
    "#         ngram_range=(1, 1),\n",
    "#         max_features=1000,\n",
    "#         min_df=0.005,\n",
    "#         max_df=0.5,\n",
    "#     )),\n",
    "#     ('normalizer', StandardScaler(with_mean=False))\n",
    "# ])\n",
    "# trans = p.fit_transform(np_tags[:,1])"
   ]
  },
  {
   "cell_type": "code",
   "execution_count": 27,
   "metadata": {},
   "outputs": [],
   "source": [
    "# pickle.dump(p, open(\"p.p\", \"wb\" ))"
   ]
  },
  {
   "cell_type": "code",
   "execution_count": 28,
   "metadata": {},
   "outputs": [],
   "source": [
    "p = pickle.load(open( \"p.p\", \"rb\" ))"
   ]
  },
  {
   "cell_type": "code",
   "execution_count": 29,
   "metadata": {},
   "outputs": [],
   "source": [
    "# pickle.dump(trans, open(\"trans.p\", \"wb\" ))"
   ]
  },
  {
   "cell_type": "code",
   "execution_count": 30,
   "metadata": {},
   "outputs": [],
   "source": [
    "trans = pickle.load(open(\"trans.p\", \"rb\" ))"
   ]
  },
  {
   "cell_type": "code",
   "execution_count": 31,
   "metadata": {},
   "outputs": [
    {
     "data": {
      "text/plain": [
       "(10001, 1000)"
      ]
     },
     "execution_count": 31,
     "metadata": {},
     "output_type": "execute_result"
    }
   ],
   "source": [
    "trans.shape"
   ]
  },
  {
   "cell_type": "code",
   "execution_count": 32,
   "metadata": {},
   "outputs": [
    {
     "data": {
      "text/plain": [
       "<10001x1000 sparse matrix of type '<class 'numpy.float64'>'\n",
       "\twith 494913 stored elements in Compressed Sparse Row format>"
      ]
     },
     "execution_count": 32,
     "metadata": {},
     "output_type": "execute_result"
    }
   ],
   "source": [
    "trans"
   ]
  },
  {
   "cell_type": "markdown",
   "metadata": {},
   "source": [
    "After this point, the trans variable contains a row for each book, each suck row corresponds to a 1000 dimensional array. Each element of that 1000, is a score for the most important 1000 words that the TfidfVectorizer decided to keep (1000 words chosen from all the book tags provided).\n",
    "\n",
    "This is the vectorized representation of the book, the vector contains (many 0 values) the most important (cumulated for all users) words with which people tagged the books.\n",
    "\n",
    "Next up, let’s see how many users do we have and let’s extract them into a single list."
   ]
  },
  {
   "cell_type": "code",
   "execution_count": 33,
   "metadata": {},
   "outputs": [
    {
     "data": {
      "text/plain": [
       "53424"
      ]
     },
     "execution_count": 33,
     "metadata": {},
     "output_type": "execute_result"
    }
   ],
   "source": [
    "users = ratings.set_index('user_id').index.unique().values\n",
    "len(users)"
   ]
  },
  {
   "cell_type": "markdown",
   "metadata": {},
   "source": [
    "That’s how we get all the book ratings of a single user"
   ]
  },
  {
   "cell_type": "code",
   "execution_count": 34,
   "metadata": {},
   "outputs": [
    {
     "data": {
      "text/html": [
       "<div>\n",
       "<style scoped>\n",
       "    .dataframe tbody tr th:only-of-type {\n",
       "        vertical-align: middle;\n",
       "    }\n",
       "\n",
       "    .dataframe tbody tr th {\n",
       "        vertical-align: top;\n",
       "    }\n",
       "\n",
       "    .dataframe thead th {\n",
       "        text-align: right;\n",
       "    }\n",
       "</style>\n",
       "<table border=\"1\" class=\"dataframe\">\n",
       "  <thead>\n",
       "    <tr style=\"text-align: right;\">\n",
       "      <th></th>\n",
       "      <th>book_id</th>\n",
       "      <th>rating</th>\n",
       "    </tr>\n",
       "  </thead>\n",
       "  <tbody>\n",
       "    <tr>\n",
       "      <td>0</td>\n",
       "      <td>258</td>\n",
       "      <td>5</td>\n",
       "    </tr>\n",
       "    <tr>\n",
       "      <td>75</td>\n",
       "      <td>268</td>\n",
       "      <td>3</td>\n",
       "    </tr>\n",
       "    <tr>\n",
       "      <td>76</td>\n",
       "      <td>5556</td>\n",
       "      <td>3</td>\n",
       "    </tr>\n",
       "    <tr>\n",
       "      <td>77</td>\n",
       "      <td>3638</td>\n",
       "      <td>3</td>\n",
       "    </tr>\n",
       "    <tr>\n",
       "      <td>78</td>\n",
       "      <td>1796</td>\n",
       "      <td>5</td>\n",
       "    </tr>\n",
       "  </tbody>\n",
       "</table>\n",
       "</div>"
      ],
      "text/plain": [
       "    book_id  rating\n",
       "0       258       5\n",
       "75      268       3\n",
       "76     5556       3\n",
       "77     3638       3\n",
       "78     1796       5"
      ]
     },
     "execution_count": 34,
     "metadata": {},
     "output_type": "execute_result"
    }
   ],
   "source": [
    "ratings.loc[ratings.user_id == users[0]][['book_id', 'rating']].head()"
   ]
  },
  {
   "cell_type": "markdown",
   "metadata": {},
   "source": [
    "We’ll actually write a function for this because it’s rather obscure. We want all the book_ids that the user rated, along with the given rating for each book."
   ]
  },
  {
   "cell_type": "code",
   "execution_count": 35,
   "metadata": {},
   "outputs": [
    {
     "data": {
      "text/plain": [
       "((117,), (117, 1000))"
      ]
     },
     "execution_count": 35,
     "metadata": {},
     "output_type": "execute_result"
    }
   ],
   "source": [
    "def books_and_ratings(user_id):\n",
    "        books_and_ratings_df = ratings.loc[ratings.user_id == user_id][['book_id', 'rating']]\n",
    "        u_books, u_ratings = zip(*books_and_ratings_df.values)\n",
    "        return np.array(u_books), np.array(u_ratings)\n",
    "    \n",
    "u_books, u_ratings = books_and_ratings(users[0])\n",
    "u_books.shape, trans[u_books].shape"
   ]
  },
  {
   "cell_type": "markdown",
   "metadata": {},
   "source": [
    "We then multiply the book’s ratings with the features of the book, to boost the features importance for this user, then add everything together into a single user specific feature vector."
   ]
  },
  {
   "cell_type": "code",
   "execution_count": 36,
   "metadata": {},
   "outputs": [
    {
     "data": {
      "text/plain": [
       "(1000,)"
      ]
     },
     "execution_count": 36,
     "metadata": {},
     "output_type": "execute_result"
    }
   ],
   "source": [
    "user_vector = (u_ratings * trans[u_books]) / len(u_ratings)\n",
    "user_vector.shape"
   ]
  },
  {
   "cell_type": "markdown",
   "metadata": {},
   "source": [
    "If we get all the features of a book, scale each book by the user’s ratings and then do a mean on all the scaled book features as above, we actually obtain a condensed form of that user’s preferences.\n",
    "\n",
    "So doing the above we just obtained a user_vector, a 1000 dimensional vector that expresses what the user likes, by combining his prior ratings on the books he read with the respected book_vectors."
   ]
  },
  {
   "cell_type": "code",
   "execution_count": 37,
   "metadata": {},
   "outputs": [
    {
     "data": {
      "application/vnd.jupyter.widget-view+json": {
       "model_id": "a1cac2639000442c85af5a89d5fabfbf",
       "version_major": 2,
       "version_minor": 0
      },
      "text/plain": [
       "HBox(children=(IntProgress(value=0, max=1000), HTML(value='')))"
      ]
     },
     "metadata": {},
     "output_type": "display_data"
    },
    {
     "name": "stdout",
     "output_type": "stream",
     "text": [
      "\n"
     ]
    }
   ],
   "source": [
    "def get_user_vector(user_id):\n",
    "    u_books, u_ratings = books_and_ratings(user_id)\n",
    "    u_books_features = trans[u_books]\n",
    "    u_vector = (u_ratings * u_books_features) / len(u_ratings)\n",
    "    return u_vector\n",
    "    \n",
    "def get_user_vectors():\n",
    "    user_vectors = np.zeros((len(users), 1000))\n",
    "    for user_id in tqdm(users[:1000]):\n",
    "        u_vector = get_user_vector(user_id)\n",
    "        user_vectors[user_id, :] = u_vector\n",
    "    return user_vectors\n",
    "\n",
    "user_vectors = get_user_vectors()\n"
   ]
  },
  {
   "cell_type": "markdown",
   "metadata": {},
   "source": [
    "The pipeline transformation also keeps the most important 1000 words. Let’s see a sample of them now.."
   ]
  },
  {
   "cell_type": "code",
   "execution_count": 38,
   "metadata": {},
   "outputs": [
    {
     "data": {
      "text/plain": [
       "array(['kid', 'purchas', 'quirki', 'novella', 'god', 'paper', 'mysteri',\n",
       "       'junior', 'steami', 'best', 'serial', 'all', 'need', 'woman',\n",
       "       'unread', 'terjemahan', 'disturb', 'suspens', 'requir', 'environ',\n",
       "       'lewi', 'calibr', 'food', 'king', 'class', 'cookeri', 'art', 'you',\n",
       "       'than', 've', 'fantascienza', 'biblioteca', 'multipl', 'jack',\n",
       "       'folklor', 'childhood', 'pdf', 'math', 'terror', 'abandon',\n",
       "       'essay', 'apocalyps', 'enemi', 'work', 'easi', 'disabl', 'triangl',\n",
       "       'mf', 'help', 'social', 'love', 'supernatur', 'dean', 'manga',\n",
       "       '20', '2005', 'mother', '1900', 'color', 'shelf', 'dystopia', '6',\n",
       "       'leadership', 'clasico', 'middl', 'philosoph', 'occult', 'stori',\n",
       "       'african', 'learn', 'assassin', 'irish', 'medic', 'r', 'drop',\n",
       "       'dragon', 'nonfict', '2017', 'medal', 'elementari', 'paperback',\n",
       "       'adopt', 'digit', 'adventur', 'entrepreneurship', 'letteratura',\n",
       "       'كتب', 'pov', 'refer', 'espionag', 'french', 'holiday', 'kiddo',\n",
       "       'collect', 'satir', 'have', 'retel', 'and', 'academ', 'shortstori'],\n",
       "      dtype='<U16')"
      ]
     },
     "execution_count": 38,
     "metadata": {},
     "output_type": "execute_result"
    }
   ],
   "source": [
    "trans_feature_names = p.named_steps['vectorizer'].get_feature_names()\n",
    "np.random.permutation(np.array(trans_feature_names))[:100]"
   ]
  },
  {
   "cell_type": "markdown",
   "metadata": {},
   "source": [
    "Once we have the user_vectors computed, we want to show the most important 20 words for it."
   ]
  },
  {
   "cell_type": "code",
   "execution_count": 39,
   "metadata": {},
   "outputs": [
    {
     "data": {
      "text/html": [
       "<div>\n",
       "<style scoped>\n",
       "    .dataframe tbody tr th:only-of-type {\n",
       "        vertical-align: middle;\n",
       "    }\n",
       "\n",
       "    .dataframe tbody tr th {\n",
       "        vertical-align: top;\n",
       "    }\n",
       "\n",
       "    .dataframe thead th {\n",
       "        text-align: right;\n",
       "    }\n",
       "</style>\n",
       "<table border=\"1\" class=\"dataframe\">\n",
       "  <thead>\n",
       "    <tr style=\"text-align: right;\">\n",
       "      <th></th>\n",
       "      <th>0</th>\n",
       "      <th>1</th>\n",
       "      <th>2</th>\n",
       "      <th>3</th>\n",
       "      <th>4</th>\n",
       "      <th>5</th>\n",
       "      <th>6</th>\n",
       "      <th>7</th>\n",
       "      <th>8</th>\n",
       "      <th>9</th>\n",
       "      <th>10</th>\n",
       "      <th>11</th>\n",
       "      <th>12</th>\n",
       "      <th>13</th>\n",
       "      <th>14</th>\n",
       "      <th>15</th>\n",
       "      <th>16</th>\n",
       "      <th>17</th>\n",
       "      <th>18</th>\n",
       "      <th>19</th>\n",
       "    </tr>\n",
       "  </thead>\n",
       "  <tbody>\n",
       "    <tr>\n",
       "      <td>token</td>\n",
       "      <td>philosoph</td>\n",
       "      <td>classic</td>\n",
       "      <td>translat</td>\n",
       "      <td>existenti</td>\n",
       "      <td>literatur</td>\n",
       "      <td>روايات</td>\n",
       "      <td>centuri</td>\n",
       "      <td>literari</td>\n",
       "      <td>european</td>\n",
       "      <td>philosophi</td>\n",
       "      <td>20th</td>\n",
       "      <td>1001</td>\n",
       "      <td>eastern</td>\n",
       "      <td>re</td>\n",
       "      <td>roman</td>\n",
       "      <td>you</td>\n",
       "      <td>die</td>\n",
       "      <td>letteratura</td>\n",
       "      <td>gilmor</td>\n",
       "      <td>rori</td>\n",
       "    </tr>\n",
       "    <tr>\n",
       "      <td>relevance</td>\n",
       "      <td>8.48307</td>\n",
       "      <td>7.491</td>\n",
       "      <td>7.08973</td>\n",
       "      <td>7.03154</td>\n",
       "      <td>6.35261</td>\n",
       "      <td>6.34232</td>\n",
       "      <td>6.10287</td>\n",
       "      <td>5.7881</td>\n",
       "      <td>5.74691</td>\n",
       "      <td>5.6679</td>\n",
       "      <td>5.31838</td>\n",
       "      <td>5.28018</td>\n",
       "      <td>5.1303</td>\n",
       "      <td>5.10013</td>\n",
       "      <td>5.05865</td>\n",
       "      <td>5.05788</td>\n",
       "      <td>4.86209</td>\n",
       "      <td>4.75165</td>\n",
       "      <td>4.74578</td>\n",
       "      <td>4.74578</td>\n",
       "    </tr>\n",
       "  </tbody>\n",
       "</table>\n",
       "</div>"
      ],
      "text/plain": [
       "                   0        1         2          3          4        5  \\\n",
       "token      philosoph  classic  translat  existenti  literatur   روايات   \n",
       "relevance    8.48307    7.491   7.08973    7.03154    6.35261  6.34232   \n",
       "\n",
       "                 6         7         8           9       10       11       12  \\\n",
       "token      centuri  literari  european  philosophi     20th     1001  eastern   \n",
       "relevance  6.10287    5.7881   5.74691      5.6679  5.31838  5.28018   5.1303   \n",
       "\n",
       "                13       14       15       16           17       18       19  \n",
       "token           re    roman      you      die  letteratura   gilmor     rori  \n",
       "relevance  5.10013  5.05865  5.05788  4.86209      4.75165  4.74578  4.74578  "
      ]
     },
     "execution_count": 39,
     "metadata": {},
     "output_type": "execute_result"
    }
   ],
   "source": [
    "user_id = 100\n",
    "\n",
    "pd.DataFrame(\n",
    "    sorted(\n",
    "        zip(\n",
    "            trans_feature_names, \n",
    "            user_vectors[user_id].flatten().tolist()\n",
    "        ), \n",
    "        key=lambda x: -x[1]\n",
    "    )[:20],\n",
    "    columns=['token', 'relevance']\n",
    ").T"
   ]
  },
  {
   "cell_type": "markdown",
   "metadata": {},
   "source": [
    "The last piece of the puzzle at this stage is making a link between the book_vectors and the user_vectors.\n",
    "\n",
    "Since both of them are computed on the same feature space, we simply need a distance metric that would rank a given user_vector to all the book_vectors.\n",
    "\n",
    "One such metric is the cosine_similarity that we’re using bellow. It computes a distance between two n-dimensional vectors and returns a score between -1 and 1 where:\n",
    "\n",
    "<ul style=\"list-style-type:square;\">\n",
    "  <li>something close to -1 means that the vectors have opposite relations (e.g. comedy and drama)</li>\n",
    "  <li>something close to 0 means that the vectors have no relation between them</li>\n",
    "  <li>Tsomething close to 1 means that the vectors are quite similar</li>\n",
    "</ul>\n",
    "    \n",
    "The code bellow will compute a recommendation for a single user."
   ]
  },
  {
   "cell_type": "code",
   "execution_count": 40,
   "metadata": {},
   "outputs": [
    {
     "data": {
      "text/plain": [
       "array([ 3339,  3337,  3321,  3322,  3323,  3324,  3325,  3326,  3327,\n",
       "        3338,  3328,  3330,  3331,  3332,  3333,  3334,  3335,  3336,\n",
       "        3329, 10000])"
      ]
     },
     "execution_count": 40,
     "metadata": {},
     "output_type": "execute_result"
    }
   ],
   "source": [
    "user_id = 17292\n",
    "cosine_similarities = cosine_similarity(np.expand_dims(user_vectors[user_id], 0), trans)\n",
    "similar_indices = cosine_similarities.argsort().flatten()[-20:]\n",
    "similar_indices"
   ]
  },
  {
   "cell_type": "markdown",
   "metadata": {},
   "source": [
    "Which translates to the following books:"
   ]
  },
  {
   "cell_type": "code",
   "execution_count": 41,
   "metadata": {},
   "outputs": [
    {
     "data": {
      "text/html": [
       "<div>\n",
       "<style scoped>\n",
       "    .dataframe tbody tr th:only-of-type {\n",
       "        vertical-align: middle;\n",
       "    }\n",
       "\n",
       "    .dataframe tbody tr th {\n",
       "        vertical-align: top;\n",
       "    }\n",
       "\n",
       "    .dataframe thead th {\n",
       "        text-align: right;\n",
       "    }\n",
       "</style>\n",
       "<table border=\"1\" class=\"dataframe\">\n",
       "  <thead>\n",
       "    <tr style=\"text-align: right;\">\n",
       "      <th></th>\n",
       "      <th>title</th>\n",
       "      <th>authors</th>\n",
       "    </tr>\n",
       "  </thead>\n",
       "  <tbody>\n",
       "    <tr>\n",
       "      <td>3320</td>\n",
       "      <td>Pale Fire</td>\n",
       "      <td>Vladimir Nabokov</td>\n",
       "    </tr>\n",
       "    <tr>\n",
       "      <td>3321</td>\n",
       "      <td>The Lady and the Unicorn</td>\n",
       "      <td>Tracy Chevalier</td>\n",
       "    </tr>\n",
       "    <tr>\n",
       "      <td>3322</td>\n",
       "      <td>A Christmas Carol and Other Christmas Writings</td>\n",
       "      <td>Charles Dickens, Michael Slater</td>\n",
       "    </tr>\n",
       "    <tr>\n",
       "      <td>3323</td>\n",
       "      <td>One More Thing: Stories and Other Stories</td>\n",
       "      <td>B.J. Novak</td>\n",
       "    </tr>\n",
       "    <tr>\n",
       "      <td>3324</td>\n",
       "      <td>Men at Arms: The Play</td>\n",
       "      <td>Terry Pratchett, Stephen Briggs</td>\n",
       "    </tr>\n",
       "    <tr>\n",
       "      <td>3325</td>\n",
       "      <td>Carpe Corpus (The Morganville Vampires, #6)</td>\n",
       "      <td>Rachel Caine</td>\n",
       "    </tr>\n",
       "    <tr>\n",
       "      <td>3326</td>\n",
       "      <td>The Shock of the Fall</td>\n",
       "      <td>Nathan Filer</td>\n",
       "    </tr>\n",
       "    <tr>\n",
       "      <td>3327</td>\n",
       "      <td>Asylum (Asylum, #1)</td>\n",
       "      <td>Madeleine Roux</td>\n",
       "    </tr>\n",
       "    <tr>\n",
       "      <td>3328</td>\n",
       "      <td>The Heart Goes Last</td>\n",
       "      <td>Margaret Atwood</td>\n",
       "    </tr>\n",
       "    <tr>\n",
       "      <td>3329</td>\n",
       "      <td>A Fistful of Charms (The Hollows, #4)</td>\n",
       "      <td>Kim Harrison</td>\n",
       "    </tr>\n",
       "    <tr>\n",
       "      <td>3330</td>\n",
       "      <td>Desiring God: Meditations of a Christian Hedonist</td>\n",
       "      <td>John Piper</td>\n",
       "    </tr>\n",
       "    <tr>\n",
       "      <td>3331</td>\n",
       "      <td>The Coldest Girl in Coldtown</td>\n",
       "      <td>Holly Black</td>\n",
       "    </tr>\n",
       "    <tr>\n",
       "      <td>3332</td>\n",
       "      <td>Skinny Dip</td>\n",
       "      <td>Carl Hiaasen</td>\n",
       "    </tr>\n",
       "    <tr>\n",
       "      <td>3333</td>\n",
       "      <td>The Marriage of Opposites</td>\n",
       "      <td>Alice Hoffman</td>\n",
       "    </tr>\n",
       "    <tr>\n",
       "      <td>3334</td>\n",
       "      <td>Imagine: How Creativity Works</td>\n",
       "      <td>Jonah Lehrer</td>\n",
       "    </tr>\n",
       "    <tr>\n",
       "      <td>3335</td>\n",
       "      <td>Feast of Fools (The Morganville Vampires, #4)</td>\n",
       "      <td>Rachel Caine</td>\n",
       "    </tr>\n",
       "    <tr>\n",
       "      <td>3336</td>\n",
       "      <td>UnWholly (Unwind, #2)</td>\n",
       "      <td>Neal Shusterman</td>\n",
       "    </tr>\n",
       "    <tr>\n",
       "      <td>3337</td>\n",
       "      <td>Consider the Lobster and Other Essays</td>\n",
       "      <td>David Foster Wallace</td>\n",
       "    </tr>\n",
       "    <tr>\n",
       "      <td>3338</td>\n",
       "      <td>The Atlantis Complex (Artemis Fowl, #7)</td>\n",
       "      <td>Eoin Colfer</td>\n",
       "    </tr>\n",
       "    <tr>\n",
       "      <td>9999</td>\n",
       "      <td>The First World War</td>\n",
       "      <td>John Keegan</td>\n",
       "    </tr>\n",
       "  </tbody>\n",
       "</table>\n",
       "</div>"
      ],
      "text/plain": [
       "                                                  title  \\\n",
       "3320                                          Pale Fire   \n",
       "3321                           The Lady and the Unicorn   \n",
       "3322     A Christmas Carol and Other Christmas Writings   \n",
       "3323          One More Thing: Stories and Other Stories   \n",
       "3324                              Men at Arms: The Play   \n",
       "3325        Carpe Corpus (The Morganville Vampires, #6)   \n",
       "3326                              The Shock of the Fall   \n",
       "3327                                Asylum (Asylum, #1)   \n",
       "3328                                The Heart Goes Last   \n",
       "3329              A Fistful of Charms (The Hollows, #4)   \n",
       "3330  Desiring God: Meditations of a Christian Hedonist   \n",
       "3331                       The Coldest Girl in Coldtown   \n",
       "3332                                         Skinny Dip   \n",
       "3333                          The Marriage of Opposites   \n",
       "3334                      Imagine: How Creativity Works   \n",
       "3335      Feast of Fools (The Morganville Vampires, #4)   \n",
       "3336                              UnWholly (Unwind, #2)   \n",
       "3337              Consider the Lobster and Other Essays   \n",
       "3338            The Atlantis Complex (Artemis Fowl, #7)   \n",
       "9999                                The First World War   \n",
       "\n",
       "                              authors  \n",
       "3320                 Vladimir Nabokov  \n",
       "3321                  Tracy Chevalier  \n",
       "3322  Charles Dickens, Michael Slater  \n",
       "3323                       B.J. Novak  \n",
       "3324  Terry Pratchett, Stephen Briggs  \n",
       "3325                     Rachel Caine  \n",
       "3326                     Nathan Filer  \n",
       "3327                   Madeleine Roux  \n",
       "3328                  Margaret Atwood  \n",
       "3329                     Kim Harrison  \n",
       "3330                       John Piper  \n",
       "3331                      Holly Black  \n",
       "3332                     Carl Hiaasen  \n",
       "3333                    Alice Hoffman  \n",
       "3334                     Jonah Lehrer  \n",
       "3335                     Rachel Caine  \n",
       "3336                  Neal Shusterman  \n",
       "3337             David Foster Wallace  \n",
       "3338                      Eoin Colfer  \n",
       "9999                      John Keegan  "
      ]
     },
     "execution_count": 41,
     "metadata": {},
     "output_type": "execute_result"
    }
   ],
   "source": [
    "books.loc[books.book_id.isin(similar_indices)][['title', 'authors']]"
   ]
  },
  {
   "cell_type": "markdown",
   "metadata": {},
   "source": [
    "This approach gives way better predictions than the popularity model but, on the other hand, this relies on us having the content of the books (tags, book_tags, etc..) which we might not have, or might add a new level of complexity (parsing, cleaning, summarizing, etc…)."
   ]
  },
  {
   "cell_type": "markdown",
   "metadata": {},
   "source": [
    "## Recommender Systems with surprise\n",
    "\n"
   ]
  },
  {
   "cell_type": "markdown",
   "metadata": {},
   "source": [
    "First we will fet the sample of the data to reduce the dimensionality of the data set. Then explore it. "
   ]
  },
  {
   "cell_type": "code",
   "execution_count": 42,
   "metadata": {},
   "outputs": [],
   "source": [
    "# min_book_ratings = 150\n",
    "# filter_books = ratings['book_id'].value_counts() > min_book_ratings\n",
    "# filter_books = filter_books[filter_books].index.tolist()\n",
    "\n",
    "# min_user_ratings = 150\n",
    "# filter_users = ratings['user_id'].value_counts() > min_user_ratings\n",
    "# filter_users = filter_users[filter_users].index.tolist()\n",
    "\n",
    "# df_new = ratings[(ratings['book_id'].isin(filter_books)) & (ratings['user_id'].isin(filter_users))]\n",
    "# print('The original data frame shape:\\t{}'.format(ratings.shape))\n",
    "# print('The new data frame shape:\\t{}'.format(df_new.shape))"
   ]
  },
  {
   "cell_type": "code",
   "execution_count": 43,
   "metadata": {},
   "outputs": [],
   "source": [
    "df_new = ratings.sample(n=100000, random_state=1)"
   ]
  },
  {
   "cell_type": "code",
   "execution_count": 44,
   "metadata": {},
   "outputs": [
    {
     "data": {
      "image/png": "[encoded data removed]",
      "text/plain": [
       "<Figure size 432x288 with 1 Axes>"
      ]
     },
     "metadata": {
      "needs_background": "light"
     },
     "output_type": "display_data"
    }
   ],
   "source": [
    "df_new.rating.hist(bins = 5, grid=False)\n",
    "plt.xticks(np.arange(1, 6))\n",
    "plt.title(\"Rating frequency\")\n",
    "plt.xlabel(\"Rating\")\n",
    "plt.ylabel(\"Frequency\")\n",
    "plt.show()"
   ]
  },
  {
   "cell_type": "code",
   "execution_count": 45,
   "metadata": {},
   "outputs": [
    {
     "data": {
      "text/plain": [
       "44469"
      ]
     },
     "execution_count": 45,
     "metadata": {},
     "output_type": "execute_result"
    }
   ],
   "source": [
    "users = df_new.set_index('user_id').index.unique().values\n",
    "len(users)"
   ]
  },
  {
   "cell_type": "code",
   "execution_count": 46,
   "metadata": {},
   "outputs": [
    {
     "data": {
      "text/plain": [
       "9535"
      ]
     },
     "execution_count": 46,
     "metadata": {},
     "output_type": "execute_result"
    }
   ],
   "source": [
    "books_arr = df_new.set_index('book_id').index.unique().values\n",
    "len(books_arr)"
   ]
  },
  {
   "cell_type": "code",
   "execution_count": 47,
   "metadata": {
    "scrolled": false
   },
   "outputs": [
    {
     "data": {
      "text/plain": [
       "100000"
      ]
     },
     "execution_count": 47,
     "metadata": {},
     "output_type": "execute_result"
    }
   ],
   "source": [
    "len(df_new)"
   ]
  },
  {
   "cell_type": "code",
   "execution_count": 48,
   "metadata": {},
   "outputs": [],
   "source": [
    "df_combined = pd.merge(df_new, books, on = 'book_id')"
   ]
  },
  {
   "cell_type": "markdown",
   "metadata": {},
   "source": [
    "To load a data set from the above pandas data frame, we will use the load_from_df() method, we will also need a Reader object, and the rating_scale parameter must be specified. The data frame must have three columns, corresponding to the user ids, the item ids, and the ratings in this order. Each row thus corresponds to a given rating."
   ]
  },
  {
   "cell_type": "code",
   "execution_count": 49,
   "metadata": {},
   "outputs": [],
   "source": [
    "# Load the books dataset\n",
    "reader = Reader(rating_scale=(1, 5))\n",
    "data = Dataset.load_from_df(df_new, reader)"
   ]
  },
  {
   "cell_type": "code",
   "execution_count": 50,
   "metadata": {},
   "outputs": [],
   "source": [
    "trainset, testset = train_test_split(data, test_size=0.25)"
   ]
  },
  {
   "cell_type": "markdown",
   "metadata": {},
   "source": [
    "#### Algorithms Based on K-Nearest Neighbours (k-NN)\n",
    "\n",
    "The choice of algorithm for the recommender function depends on the technique you want to use. For the memory-based approaches, the algorithm that would fit the bill is <a href=\"https://surprise.readthedocs.io/en/stable/knn_inspired.html#surprise.prediction_algorithms.knns.KNNWithMeans\">Centered k-NN</a> because the algorithm is very close to the centered cosine similarity formula. It is available in Surprise as KNNWithMeans."
   ]
  },
  {
   "cell_type": "markdown",
   "metadata": {},
   "source": [
    "To find the similarity, you simply have to configure the function by passing a dictionary as an argument to the recommender function. The dictionary should have the required keys, such as the following:\n",
    "<ul>\n",
    "    <li>name contains the similarity metric to use. Options are cosine, msd, pearson, or pearson_baseline. The default is msd.</li>\n",
    "    <li>user_based is a boolean that tells whether the approach will be user-based or item-based. The default is True, which means the user-based approach will be used.</li>\n",
    "    <li>min_support is the minimum number of common items needed between users to consider them for similarity. For the item-based approach, this corresponds to the minimum number of common users for two items.</li>\n",
    "</ul>\n",
    "\n",
    "You can check more information for similarity <a href=\"https://surprise.readthedocs.io/en/stable/similarities.html\">here</a>."
   ]
  },
  {
   "cell_type": "markdown",
   "metadata": {},
   "source": [
    "#### Tuning the Algorithm Parameters\n",
    "\n",
    "Surprise provides a GridSearchCV class analogous to <a href=\"https://scikit-learn.org/stable/modules/generated/sklearn.model_selection.GridSearchCV.html\">GridSearchCV</a>. from scikit-learn.\n",
    "\n",
    "With a dict of all parameters, GridSearchCV tries all the combinations of parameters and reports the best parameters for any accuracy measure\n",
    "\n",
    "For example, you can check which similarity metric works best for your data in memory-based approaches:"
   ]
  },
  {
   "cell_type": "markdown",
   "metadata": {},
   "source": [
    "Use the new parameters with the train data"
   ]
  },
  {
   "cell_type": "code",
   "execution_count": 51,
   "metadata": {},
   "outputs": [],
   "source": [
    "# sim_options = {\n",
    "#     \"name\": [\"msd\", \"cosine\", \"pearson_baseline\"],\n",
    "#     \"min_support\": [3, 4, 5, 7],\n",
    "#     \"user_based\": [False],\n",
    "# }\n",
    "\n",
    "# param_grid = {\"sim_options\": sim_options}\n",
    "\n",
    "# gs = GridSearchCV(KNNWithMeans, param_grid, measures=[\"rmse\", \"mae\"], cv=5, refit=True)\n",
    "# gs.fit(data)"
   ]
  },
  {
   "cell_type": "code",
   "execution_count": 52,
   "metadata": {},
   "outputs": [],
   "source": [
    "# pickle.dump(gs, open(\"gs.p\", \"wb\" ))\n",
    "# gs = pickle.load(open( \"gs.p\", \"rb\" ))"
   ]
  },
  {
   "cell_type": "code",
   "execution_count": 53,
   "metadata": {},
   "outputs": [],
   "source": [
    "# print(gs.best_score[\"rmse\"])\n",
    "# print(gs.best_params[\"rmse\"])\n",
    "# # algo = gs.best_estimator['rmse']"
   ]
  },
  {
   "cell_type": "markdown",
   "metadata": {},
   "source": [
    "After the GridSearch best estimator is {'sim_options': {'name': 'msd', 'min_support': 7, 'user_based': False}} <br/>\n",
    "best score: 1.0118589513557084</b>"
   ]
  },
  {
   "cell_type": "code",
   "execution_count": 54,
   "metadata": {},
   "outputs": [
    {
     "name": "stdout",
     "output_type": "stream",
     "text": [
      "Computing the msd similarity matrix...\n",
      "Done computing similarity matrix.\n"
     ]
    },
    {
     "data": {
      "text/plain": [
       "<surprise.prediction_algorithms.knns.KNNWithMeans at 0x7f0f0537fe90>"
      ]
     },
     "execution_count": 54,
     "metadata": {},
     "output_type": "execute_result"
    }
   ],
   "source": [
    "algoKNN = KNNWithMeans(sim_options={'name': 'msd', 'min_support': 7, 'user_based': False})\n",
    "algoKNN.fit(trainset)"
   ]
  },
  {
   "cell_type": "code",
   "execution_count": 55,
   "metadata": {},
   "outputs": [],
   "source": [
    "# The model fit faster and the pickle is very big. So no need to make pickle :) \n",
    "# pickle.dump(algoKNN, open(\"algoKNN.p\", \"wb\" ))\n",
    "# algoKNN = pickle.load(open( \"algoKNN.p\", \"rb\" ))"
   ]
  },
  {
   "cell_type": "code",
   "execution_count": 56,
   "metadata": {},
   "outputs": [
    {
     "name": "stdout",
     "output_type": "stream",
     "text": [
      "KNNWithMeans : Test Set\n",
      "RMSE: 1.0177\n"
     ]
    },
    {
     "data": {
      "text/plain": [
       "1.0177219015004995"
      ]
     },
     "execution_count": 56,
     "metadata": {},
     "output_type": "execute_result"
    }
   ],
   "source": [
    "test_pred = algoKNN.test(testset)\n",
    "print(\"KNNWithMeans : Test Set\")\n",
    "accuracy.rmse(test_pred, verbose=True)"
   ]
  },
  {
   "cell_type": "markdown",
   "metadata": {},
   "source": [
    "#### How to compute precision@k and recall@k\n",
    "\n",
    "Here is an example where we compute Precision@k and Recall@k for each user:\n",
    "\n",
    "Precision@k={Recommended items that are relevant}/{Recommended items}\n",
    "Recall@k={Recommended items that are relevant}/{Relevant items}\n",
    "\n",
    "An item is considered relevant if its true rating r<sub>ui</sub>\n",
    "is greater than a given threshold. An item is considered recommended if its estimated rating r<sup>^</sup><sub>ui</sub> is greater than the threshold, and if it is among the k highest estimated ratings.\n",
    "\n",
    "Relevant items are already known in the data set<br/>\n",
    "Relevant item: Has a True/Actual rating >= 3.5<br/>\n",
    "Irrelevant item: Has a True/Actual rating < 3.5<br/>Recommended items are generated by recommendation algorithm<br/>\n",
    "Recommended item: has a predicted rating >= 3.5<br/>\n",
    "Not recommended item: Has a predicted rating < 3.5"
   ]
  },
  {
   "cell_type": "code",
   "execution_count": 57,
   "metadata": {},
   "outputs": [],
   "source": [
    "def precision_recall_at_k(predictions, k=10, threshold=3.5):\n",
    "    '''Return precision and recall at k metrics for each user.'''\n",
    "\n",
    "    # First map the predictions to each user.\n",
    "    user_est_true = defaultdict(list)\n",
    "    for uid, _, true_r, est, _ in predictions:\n",
    "        user_est_true[uid].append((est, true_r))\n",
    "\n",
    "    precisions = dict()\n",
    "    recalls = dict()\n",
    "    for uid, user_ratings in user_est_true.items():\n",
    "\n",
    "        # Sort user ratings by estimated value\n",
    "        user_ratings.sort(key=lambda x: x[0], reverse=True)\n",
    "\n",
    "        # Number of relevant items\n",
    "        n_rel = sum((true_r >= threshold) for (_, true_r) in user_ratings)\n",
    "\n",
    "        # Number of recommended items in top k\n",
    "        n_rec_k = sum((est >= threshold) for (est, _) in user_ratings[:k])\n",
    "\n",
    "        # Number of relevant and recommended items in top k\n",
    "        n_rel_and_rec_k = sum(((true_r >= threshold) and (est >= threshold))\n",
    "                              for (est, true_r) in user_ratings[:k])\n",
    "\n",
    "        # Precision@K: Proportion of recommended items that are relevant\n",
    "        precisions[uid] = n_rel_and_rec_k / n_rec_k if n_rec_k != 0 else 1\n",
    "\n",
    "        # Recall@K: Proportion of relevant items that are recommended\n",
    "        recalls[uid] = n_rel_and_rec_k / n_rel if n_rel != 0 else 1\n",
    "\n",
    "    return precisions, recalls"
   ]
  },
  {
   "cell_type": "code",
   "execution_count": 58,
   "metadata": {},
   "outputs": [
    {
     "name": "stdout",
     "output_type": "stream",
     "text": [
      "0.8991576961304559\n",
      "0.5541500311652432\n"
     ]
    }
   ],
   "source": [
    "precisions, recalls = precision_recall_at_k(test_pred, k=10, threshold=4)\n",
    "\n",
    "# Precision and recall can then be averaged over all users\n",
    "print(sum(prec for prec in precisions.values()) / len(precisions))\n",
    "print(sum(rec for rec in recalls.values()) / len(recalls))\n"
   ]
  },
  {
   "cell_type": "code",
   "execution_count": 59,
   "metadata": {},
   "outputs": [],
   "source": [
    "def get_Iu(uid):\n",
    "    \"\"\" return the number of items rated by given user\n",
    "    args: \n",
    "      uid: the id of the user\n",
    "    returns: \n",
    "      the number of items rated by the user\n",
    "    \"\"\"\n",
    "    try:\n",
    "        return len(trainset.ur[trainset.to_inner_uid(uid)])\n",
    "    except ValueError: # user was not part of the trainset\n",
    "        return 0\n",
    "    \n",
    "def get_Ui(iid):\n",
    "    \"\"\" return number of users that have rated given item\n",
    "    args:\n",
    "      iid: the raw id of the item\n",
    "    returns:\n",
    "      the number of users that have rated the item.\n",
    "    \"\"\"\n",
    "    try: \n",
    "        return len(trainset.ir[trainset.to_inner_iid(iid)])\n",
    "    except ValueError:\n",
    "        return 0\n",
    "    \n",
    "df = pd.DataFrame(test_pred, columns=['uid', 'iid', 'rui', 'est', 'details'])\n",
    "df['Iu'] = df.uid.apply(get_Iu)\n",
    "df['Ui'] = df.iid.apply(get_Ui)\n",
    "df['err'] = abs(df.est - df.rui)\n",
    "best_predictions = df.sort_values(by='err')[:10]\n",
    "worst_predictions = df.sort_values(by='err')[-10:]"
   ]
  },
  {
   "cell_type": "code",
   "execution_count": 60,
   "metadata": {},
   "outputs": [
    {
     "data": {
      "text/html": [
       "<div>\n",
       "<style scoped>\n",
       "    .dataframe tbody tr th:only-of-type {\n",
       "        vertical-align: middle;\n",
       "    }\n",
       "\n",
       "    .dataframe tbody tr th {\n",
       "        vertical-align: top;\n",
       "    }\n",
       "\n",
       "    .dataframe thead th {\n",
       "        text-align: right;\n",
       "    }\n",
       "</style>\n",
       "<table border=\"1\" class=\"dataframe\">\n",
       "  <thead>\n",
       "    <tr style=\"text-align: right;\">\n",
       "      <th></th>\n",
       "      <th>uid</th>\n",
       "      <th>iid</th>\n",
       "      <th>rui</th>\n",
       "      <th>est</th>\n",
       "      <th>details</th>\n",
       "      <th>Iu</th>\n",
       "      <th>Ui</th>\n",
       "      <th>err</th>\n",
       "    </tr>\n",
       "  </thead>\n",
       "  <tbody>\n",
       "    <tr>\n",
       "      <td>4407</td>\n",
       "      <td>48091</td>\n",
       "      <td>6673</td>\n",
       "      <td>4.0</td>\n",
       "      <td>4.0</td>\n",
       "      <td>{'actual_k': 0, 'was_impossible': False}</td>\n",
       "      <td>1</td>\n",
       "      <td>2</td>\n",
       "      <td>0.0</td>\n",
       "    </tr>\n",
       "    <tr>\n",
       "      <td>8492</td>\n",
       "      <td>7203</td>\n",
       "      <td>2345</td>\n",
       "      <td>4.0</td>\n",
       "      <td>4.0</td>\n",
       "      <td>{'actual_k': 0, 'was_impossible': False}</td>\n",
       "      <td>1</td>\n",
       "      <td>1</td>\n",
       "      <td>0.0</td>\n",
       "    </tr>\n",
       "    <tr>\n",
       "      <td>18605</td>\n",
       "      <td>12976</td>\n",
       "      <td>2712</td>\n",
       "      <td>4.0</td>\n",
       "      <td>4.0</td>\n",
       "      <td>{'actual_k': 0, 'was_impossible': False}</td>\n",
       "      <td>2</td>\n",
       "      <td>6</td>\n",
       "      <td>0.0</td>\n",
       "    </tr>\n",
       "    <tr>\n",
       "      <td>18609</td>\n",
       "      <td>13096</td>\n",
       "      <td>8531</td>\n",
       "      <td>3.0</td>\n",
       "      <td>3.0</td>\n",
       "      <td>{'actual_k': 0, 'was_impossible': False}</td>\n",
       "      <td>3</td>\n",
       "      <td>1</td>\n",
       "      <td>0.0</td>\n",
       "    </tr>\n",
       "    <tr>\n",
       "      <td>18618</td>\n",
       "      <td>39443</td>\n",
       "      <td>7344</td>\n",
       "      <td>5.0</td>\n",
       "      <td>5.0</td>\n",
       "      <td>{'actual_k': 0, 'was_impossible': False}</td>\n",
       "      <td>3</td>\n",
       "      <td>4</td>\n",
       "      <td>0.0</td>\n",
       "    </tr>\n",
       "    <tr>\n",
       "      <td>3492</td>\n",
       "      <td>21120</td>\n",
       "      <td>2721</td>\n",
       "      <td>4.0</td>\n",
       "      <td>4.0</td>\n",
       "      <td>{'actual_k': 0, 'was_impossible': False}</td>\n",
       "      <td>3</td>\n",
       "      <td>8</td>\n",
       "      <td>0.0</td>\n",
       "    </tr>\n",
       "    <tr>\n",
       "      <td>1369</td>\n",
       "      <td>44704</td>\n",
       "      <td>4657</td>\n",
       "      <td>4.0</td>\n",
       "      <td>4.0</td>\n",
       "      <td>{'actual_k': 0, 'was_impossible': False}</td>\n",
       "      <td>1</td>\n",
       "      <td>2</td>\n",
       "      <td>0.0</td>\n",
       "    </tr>\n",
       "    <tr>\n",
       "      <td>18630</td>\n",
       "      <td>1323</td>\n",
       "      <td>1706</td>\n",
       "      <td>4.0</td>\n",
       "      <td>4.0</td>\n",
       "      <td>{'actual_k': 0, 'was_impossible': False}</td>\n",
       "      <td>2</td>\n",
       "      <td>21</td>\n",
       "      <td>0.0</td>\n",
       "    </tr>\n",
       "    <tr>\n",
       "      <td>18635</td>\n",
       "      <td>45836</td>\n",
       "      <td>9773</td>\n",
       "      <td>4.0</td>\n",
       "      <td>4.0</td>\n",
       "      <td>{'actual_k': 0, 'was_impossible': False}</td>\n",
       "      <td>2</td>\n",
       "      <td>3</td>\n",
       "      <td>0.0</td>\n",
       "    </tr>\n",
       "    <tr>\n",
       "      <td>18570</td>\n",
       "      <td>22263</td>\n",
       "      <td>5232</td>\n",
       "      <td>4.0</td>\n",
       "      <td>4.0</td>\n",
       "      <td>{'actual_k': 0, 'was_impossible': False}</td>\n",
       "      <td>3</td>\n",
       "      <td>2</td>\n",
       "      <td>0.0</td>\n",
       "    </tr>\n",
       "  </tbody>\n",
       "</table>\n",
       "</div>"
      ],
      "text/plain": [
       "         uid   iid  rui  est                                   details  Iu  \\\n",
       "4407   48091  6673  4.0  4.0  {'actual_k': 0, 'was_impossible': False}   1   \n",
       "8492    7203  2345  4.0  4.0  {'actual_k': 0, 'was_impossible': False}   1   \n",
       "18605  12976  2712  4.0  4.0  {'actual_k': 0, 'was_impossible': False}   2   \n",
       "18609  13096  8531  3.0  3.0  {'actual_k': 0, 'was_impossible': False}   3   \n",
       "18618  39443  7344  5.0  5.0  {'actual_k': 0, 'was_impossible': False}   3   \n",
       "3492   21120  2721  4.0  4.0  {'actual_k': 0, 'was_impossible': False}   3   \n",
       "1369   44704  4657  4.0  4.0  {'actual_k': 0, 'was_impossible': False}   1   \n",
       "18630   1323  1706  4.0  4.0  {'actual_k': 0, 'was_impossible': False}   2   \n",
       "18635  45836  9773  4.0  4.0  {'actual_k': 0, 'was_impossible': False}   2   \n",
       "18570  22263  5232  4.0  4.0  {'actual_k': 0, 'was_impossible': False}   3   \n",
       "\n",
       "       Ui  err  \n",
       "4407    2  0.0  \n",
       "8492    1  0.0  \n",
       "18605   6  0.0  \n",
       "18609   1  0.0  \n",
       "18618   4  0.0  \n",
       "3492    8  0.0  \n",
       "1369    2  0.0  \n",
       "18630  21  0.0  \n",
       "18635   3  0.0  \n",
       "18570   2  0.0  "
      ]
     },
     "execution_count": 60,
     "metadata": {},
     "output_type": "execute_result"
    }
   ],
   "source": [
    "# Let's take a look at the best and worst predictions of the algorithm to see if there is something interesting.\n",
    "# You can see that books with more rateings gives better results.\n",
    "best_predictions"
   ]
  },
  {
   "cell_type": "code",
   "execution_count": 61,
   "metadata": {},
   "outputs": [
    {
     "data": {
      "text/html": [
       "<div>\n",
       "<style scoped>\n",
       "    .dataframe tbody tr th:only-of-type {\n",
       "        vertical-align: middle;\n",
       "    }\n",
       "\n",
       "    .dataframe tbody tr th {\n",
       "        vertical-align: top;\n",
       "    }\n",
       "\n",
       "    .dataframe thead th {\n",
       "        text-align: right;\n",
       "    }\n",
       "</style>\n",
       "<table border=\"1\" class=\"dataframe\">\n",
       "  <thead>\n",
       "    <tr style=\"text-align: right;\">\n",
       "      <th></th>\n",
       "      <th>uid</th>\n",
       "      <th>iid</th>\n",
       "      <th>rui</th>\n",
       "      <th>est</th>\n",
       "      <th>details</th>\n",
       "      <th>Iu</th>\n",
       "      <th>Ui</th>\n",
       "      <th>err</th>\n",
       "    </tr>\n",
       "  </thead>\n",
       "  <tbody>\n",
       "    <tr>\n",
       "      <td>11507</td>\n",
       "      <td>20675</td>\n",
       "      <td>6084</td>\n",
       "      <td>1.0</td>\n",
       "      <td>5.0</td>\n",
       "      <td>{'actual_k': 0, 'was_impossible': False}</td>\n",
       "      <td>1</td>\n",
       "      <td>2</td>\n",
       "      <td>4.0</td>\n",
       "    </tr>\n",
       "    <tr>\n",
       "      <td>17958</td>\n",
       "      <td>30793</td>\n",
       "      <td>1409</td>\n",
       "      <td>1.0</td>\n",
       "      <td>5.0</td>\n",
       "      <td>{'actual_k': 0, 'was_impossible': False}</td>\n",
       "      <td>1</td>\n",
       "      <td>2</td>\n",
       "      <td>4.0</td>\n",
       "    </tr>\n",
       "    <tr>\n",
       "      <td>2937</td>\n",
       "      <td>51456</td>\n",
       "      <td>6564</td>\n",
       "      <td>5.0</td>\n",
       "      <td>1.0</td>\n",
       "      <td>{'actual_k': 0, 'was_impossible': False}</td>\n",
       "      <td>1</td>\n",
       "      <td>1</td>\n",
       "      <td>4.0</td>\n",
       "    </tr>\n",
       "    <tr>\n",
       "      <td>11078</td>\n",
       "      <td>3691</td>\n",
       "      <td>7775</td>\n",
       "      <td>1.0</td>\n",
       "      <td>5.0</td>\n",
       "      <td>{'actual_k': 0, 'was_impossible': False}</td>\n",
       "      <td>1</td>\n",
       "      <td>2</td>\n",
       "      <td>4.0</td>\n",
       "    </tr>\n",
       "    <tr>\n",
       "      <td>908</td>\n",
       "      <td>39411</td>\n",
       "      <td>5809</td>\n",
       "      <td>5.0</td>\n",
       "      <td>1.0</td>\n",
       "      <td>{'actual_k': 0, 'was_impossible': False}</td>\n",
       "      <td>2</td>\n",
       "      <td>1</td>\n",
       "      <td>4.0</td>\n",
       "    </tr>\n",
       "    <tr>\n",
       "      <td>336</td>\n",
       "      <td>18062</td>\n",
       "      <td>4367</td>\n",
       "      <td>5.0</td>\n",
       "      <td>1.0</td>\n",
       "      <td>{'actual_k': 0, 'was_impossible': False}</td>\n",
       "      <td>1</td>\n",
       "      <td>1</td>\n",
       "      <td>4.0</td>\n",
       "    </tr>\n",
       "    <tr>\n",
       "      <td>10347</td>\n",
       "      <td>33369</td>\n",
       "      <td>9401</td>\n",
       "      <td>1.0</td>\n",
       "      <td>5.0</td>\n",
       "      <td>{'actual_k': 0, 'was_impossible': False}</td>\n",
       "      <td>2</td>\n",
       "      <td>1</td>\n",
       "      <td>4.0</td>\n",
       "    </tr>\n",
       "    <tr>\n",
       "      <td>14553</td>\n",
       "      <td>46104</td>\n",
       "      <td>6564</td>\n",
       "      <td>5.0</td>\n",
       "      <td>1.0</td>\n",
       "      <td>{'actual_k': 0, 'was_impossible': False}</td>\n",
       "      <td>1</td>\n",
       "      <td>1</td>\n",
       "      <td>4.0</td>\n",
       "    </tr>\n",
       "    <tr>\n",
       "      <td>11158</td>\n",
       "      <td>7742</td>\n",
       "      <td>2589</td>\n",
       "      <td>1.0</td>\n",
       "      <td>5.0</td>\n",
       "      <td>{'actual_k': 0, 'was_impossible': False}</td>\n",
       "      <td>2</td>\n",
       "      <td>1</td>\n",
       "      <td>4.0</td>\n",
       "    </tr>\n",
       "    <tr>\n",
       "      <td>6121</td>\n",
       "      <td>41519</td>\n",
       "      <td>4958</td>\n",
       "      <td>1.0</td>\n",
       "      <td>5.0</td>\n",
       "      <td>{'actual_k': 0, 'was_impossible': False}</td>\n",
       "      <td>2</td>\n",
       "      <td>1</td>\n",
       "      <td>4.0</td>\n",
       "    </tr>\n",
       "  </tbody>\n",
       "</table>\n",
       "</div>"
      ],
      "text/plain": [
       "         uid   iid  rui  est                                   details  Iu  \\\n",
       "11507  20675  6084  1.0  5.0  {'actual_k': 0, 'was_impossible': False}   1   \n",
       "17958  30793  1409  1.0  5.0  {'actual_k': 0, 'was_impossible': False}   1   \n",
       "2937   51456  6564  5.0  1.0  {'actual_k': 0, 'was_impossible': False}   1   \n",
       "11078   3691  7775  1.0  5.0  {'actual_k': 0, 'was_impossible': False}   1   \n",
       "908    39411  5809  5.0  1.0  {'actual_k': 0, 'was_impossible': False}   2   \n",
       "336    18062  4367  5.0  1.0  {'actual_k': 0, 'was_impossible': False}   1   \n",
       "10347  33369  9401  1.0  5.0  {'actual_k': 0, 'was_impossible': False}   2   \n",
       "14553  46104  6564  5.0  1.0  {'actual_k': 0, 'was_impossible': False}   1   \n",
       "11158   7742  2589  1.0  5.0  {'actual_k': 0, 'was_impossible': False}   2   \n",
       "6121   41519  4958  1.0  5.0  {'actual_k': 0, 'was_impossible': False}   2   \n",
       "\n",
       "       Ui  err  \n",
       "11507   2  4.0  \n",
       "17958   2  4.0  \n",
       "2937    1  4.0  \n",
       "11078   2  4.0  \n",
       "908     1  4.0  \n",
       "336     1  4.0  \n",
       "10347   1  4.0  \n",
       "14553   1  4.0  \n",
       "11158   1  4.0  \n",
       "6121    1  4.0  "
      ]
     },
     "execution_count": 61,
     "metadata": {},
     "output_type": "execute_result"
    }
   ],
   "source": [
    "# Now, let's look at the prediction with the biggest error\n",
    "worst_predictions"
   ]
  },
  {
   "cell_type": "markdown",
   "metadata": {},
   "source": [
    "Lets see recommendations for one user. For example we will take user 10277 and will display the books with max rating."
   ]
  },
  {
   "cell_type": "markdown",
   "metadata": {},
   "source": [
    "### Matrix Factorization\n",
    "\n",
    "While user‐based or item‐based collaborative filtering methods are simple and intuitive, Matrix Factorization techniques are usually more effective because they allow us to discover the latent features underlying the interactions between users and items. We don’t actually know these latent features. The famous singular vector decomposition (<a href=\"https://en.wikipedia.org/wiki/Singular_value_decomposition\">SVD</a>) shown here employs the use of gradient descent to minimize the squared error between predicted rating and actual rating, eventually getting the best model.\n",
    "\n",
    "\n",
    "http://buzzard.ups.edu/courses/2014spring/420projects/math420-UPS-spring-2014-gower-netflix-SVD.pdf\n",
    "\n",
    "Again, Surprise has done the hard plumbing for you, and all is needed is to utilize the SVD() class.\n",
    "\n",
    "See http://surprise.readthedocs.io/en/stable/matrix_factorization.html for more information."
   ]
  },
  {
   "cell_type": "markdown",
   "metadata": {},
   "source": [
    "We use GridSearchCV to do a brute-force search for the hyper-parameters for the SVD algorithm. After doing a cross validation that these are indeed the best values, we use these hyper-parameter values to train on the training set.\n",
    "\n",
    "Eventually, we evaluate the model on the test set.\n",
    "\n",
    "We can use GridSearchCV to check which values for the following factors work best:\n",
    "<ul>\n",
    "    <li><b>n_factors</b> - The number of factors. Default is 100</li>\n",
    "    <li><b>n_epochs</b> is the number of iterations of SGD, which is basically an iterative method used in Statistics to minimize a function.</li>\n",
    "    <li><b>lr_all</b> is the learning rate for all parameters, which is a parameter that decides how much the parameters are adjusted in each iteration.</li>\n",
    "    <li><b>reg_all</b> is the regularization term for all parameters, which is a penalty term added to prevent overfitting.</li>\n",
    "</ul>"
   ]
  },
  {
   "cell_type": "code",
   "execution_count": 62,
   "metadata": {},
   "outputs": [],
   "source": [
    "# param_grid = {'n_factors': [100, 110], 'n_epochs': [5, 10, 15], 'lr_all': [0.002, 0.005, 0.008],\n",
    "#               'reg_all': [0.15, 0.4, 0.6]}\n",
    "# gs_svd = GridSearchCV(SVD, param_grid, measures=['rmse', 'mae'], cv=5, refit=True)\n",
    "# gs_svd.fit(data)"
   ]
  },
  {
   "cell_type": "code",
   "execution_count": 63,
   "metadata": {},
   "outputs": [],
   "source": [
    "# pickle.dump(gs_svd, open(\"gs_svd.p\", \"wb\" ))\n",
    "# gs_svd = pickle.load(open( \"gs_svd.p\", \"rb\" ))"
   ]
  },
  {
   "cell_type": "code",
   "execution_count": 64,
   "metadata": {},
   "outputs": [],
   "source": [
    "# algo = gs_svd.best_estimator['rmse']\n",
    "# print(gs_svd.best_score['rmse'])\n",
    "# print(gs_svd.best_params['rmse'])"
   ]
  },
  {
   "cell_type": "markdown",
   "metadata": {},
   "source": [
    "After GridSerch best parametars are {'sim_options': {'n_factors': 100, 'n_epochs': 15, 'lr_all': 0.008, 'reg_all': 0.4} with best score rmse 0.9534399619493493"
   ]
  },
  {
   "cell_type": "code",
   "execution_count": 65,
   "metadata": {},
   "outputs": [
    {
     "data": {
      "text/plain": [
       "<surprise.prediction_algorithms.matrix_factorization.SVD at 0x7f0f0537cc50>"
      ]
     },
     "execution_count": 65,
     "metadata": {},
     "output_type": "execute_result"
    }
   ],
   "source": [
    "SVD_algo = SVD(n_factors=100, n_epochs=15, lr_all=0.008, reg_all=0.4)\n",
    "SVD_algo.fit(trainset)"
   ]
  },
  {
   "cell_type": "code",
   "execution_count": 66,
   "metadata": {},
   "outputs": [],
   "source": [
    "# pickle.dump(SVD_algo, open(\"SVD_algo.p\", \"wb\" ))\n",
    "# SVD_algo = pickle.load(open( \"SVD_algo.p\", \"rb\" ))"
   ]
  },
  {
   "cell_type": "code",
   "execution_count": 67,
   "metadata": {},
   "outputs": [
    {
     "name": "stdout",
     "output_type": "stream",
     "text": [
      "SVD : Test Set\n",
      "RMSE: 0.9600\n",
      "0.9600069480318091\n"
     ]
    }
   ],
   "source": [
    "# Use the new parameters with the train data\n",
    "\n",
    "test_pred_SVD = SVD_algo.test(testset)\n",
    "print(\"SVD : Test Set\")\n",
    "print(accuracy.rmse(test_pred_SVD, verbose=True))"
   ]
  },
  {
   "cell_type": "code",
   "execution_count": 68,
   "metadata": {},
   "outputs": [
    {
     "name": "stdout",
     "output_type": "stream",
     "text": [
      "0.913485284951399\n",
      "0.5834436751402435\n"
     ]
    }
   ],
   "source": [
    "precisions, recalls = precision_recall_at_k(test_pred_SVD, k=10, threshold=4)\n",
    "\n",
    "# Precision and recall can then be averaged over all users\n",
    "print(sum(prec for prec in precisions.values()) / len(precisions))\n",
    "print(sum(rec for rec in recalls.values()) / len(recalls))\n"
   ]
  },
  {
   "cell_type": "markdown",
   "metadata": {},
   "source": [
    "To inspect our predictions in details, we are going to build a pandas data frame with all the predictions. "
   ]
  },
  {
   "cell_type": "code",
   "execution_count": 69,
   "metadata": {},
   "outputs": [],
   "source": [
    "df = pd.DataFrame(test_pred_SVD, columns=['uid', 'iid', 'rui', 'est', 'details'])\n",
    "df['Iu'] = df.uid.apply(get_Iu)\n",
    "df['Ui'] = df.iid.apply(get_Ui)\n",
    "df['err'] = abs(df.est - df.rui)\n",
    "best_predictions = df.sort_values(by='err')[:10]\n",
    "worst_predictions = df.sort_values(by='err')[-10:]"
   ]
  },
  {
   "cell_type": "code",
   "execution_count": 70,
   "metadata": {},
   "outputs": [
    {
     "data": {
      "text/html": [
       "<div>\n",
       "<style scoped>\n",
       "    .dataframe tbody tr th:only-of-type {\n",
       "        vertical-align: middle;\n",
       "    }\n",
       "\n",
       "    .dataframe tbody tr th {\n",
       "        vertical-align: top;\n",
       "    }\n",
       "\n",
       "    .dataframe thead th {\n",
       "        text-align: right;\n",
       "    }\n",
       "</style>\n",
       "<table border=\"1\" class=\"dataframe\">\n",
       "  <thead>\n",
       "    <tr style=\"text-align: right;\">\n",
       "      <th></th>\n",
       "      <th>uid</th>\n",
       "      <th>iid</th>\n",
       "      <th>rui</th>\n",
       "      <th>est</th>\n",
       "      <th>details</th>\n",
       "      <th>Iu</th>\n",
       "      <th>Ui</th>\n",
       "      <th>err</th>\n",
       "    </tr>\n",
       "  </thead>\n",
       "  <tbody>\n",
       "    <tr>\n",
       "      <td>14300</td>\n",
       "      <td>3571</td>\n",
       "      <td>7127</td>\n",
       "      <td>4.0</td>\n",
       "      <td>4.000025</td>\n",
       "      <td>{'was_impossible': False}</td>\n",
       "      <td>1</td>\n",
       "      <td>0</td>\n",
       "      <td>0.000025</td>\n",
       "    </tr>\n",
       "    <tr>\n",
       "      <td>1428</td>\n",
       "      <td>17292</td>\n",
       "      <td>440</td>\n",
       "      <td>4.0</td>\n",
       "      <td>4.000104</td>\n",
       "      <td>{'was_impossible': False}</td>\n",
       "      <td>4</td>\n",
       "      <td>37</td>\n",
       "      <td>0.000104</td>\n",
       "    </tr>\n",
       "    <tr>\n",
       "      <td>2216</td>\n",
       "      <td>36623</td>\n",
       "      <td>408</td>\n",
       "      <td>4.0</td>\n",
       "      <td>3.999868</td>\n",
       "      <td>{'was_impossible': False}</td>\n",
       "      <td>4</td>\n",
       "      <td>31</td>\n",
       "      <td>0.000132</td>\n",
       "    </tr>\n",
       "    <tr>\n",
       "      <td>19850</td>\n",
       "      <td>11972</td>\n",
       "      <td>124</td>\n",
       "      <td>4.0</td>\n",
       "      <td>4.000143</td>\n",
       "      <td>{'was_impossible': False}</td>\n",
       "      <td>3</td>\n",
       "      <td>81</td>\n",
       "      <td>0.000143</td>\n",
       "    </tr>\n",
       "    <tr>\n",
       "      <td>17425</td>\n",
       "      <td>50998</td>\n",
       "      <td>1743</td>\n",
       "      <td>4.0</td>\n",
       "      <td>4.000195</td>\n",
       "      <td>{'was_impossible': False}</td>\n",
       "      <td>1</td>\n",
       "      <td>10</td>\n",
       "      <td>0.000195</td>\n",
       "    </tr>\n",
       "    <tr>\n",
       "      <td>8484</td>\n",
       "      <td>20670</td>\n",
       "      <td>2759</td>\n",
       "      <td>4.0</td>\n",
       "      <td>4.000224</td>\n",
       "      <td>{'was_impossible': False}</td>\n",
       "      <td>0</td>\n",
       "      <td>2</td>\n",
       "      <td>0.000224</td>\n",
       "    </tr>\n",
       "    <tr>\n",
       "      <td>21394</td>\n",
       "      <td>41699</td>\n",
       "      <td>2997</td>\n",
       "      <td>4.0</td>\n",
       "      <td>4.000259</td>\n",
       "      <td>{'was_impossible': False}</td>\n",
       "      <td>2</td>\n",
       "      <td>8</td>\n",
       "      <td>0.000259</td>\n",
       "    </tr>\n",
       "    <tr>\n",
       "      <td>22262</td>\n",
       "      <td>6000</td>\n",
       "      <td>54</td>\n",
       "      <td>4.0</td>\n",
       "      <td>4.000282</td>\n",
       "      <td>{'was_impossible': False}</td>\n",
       "      <td>2</td>\n",
       "      <td>153</td>\n",
       "      <td>0.000282</td>\n",
       "    </tr>\n",
       "    <tr>\n",
       "      <td>958</td>\n",
       "      <td>1119</td>\n",
       "      <td>9601</td>\n",
       "      <td>4.0</td>\n",
       "      <td>4.000298</td>\n",
       "      <td>{'was_impossible': False}</td>\n",
       "      <td>0</td>\n",
       "      <td>2</td>\n",
       "      <td>0.000298</td>\n",
       "    </tr>\n",
       "    <tr>\n",
       "      <td>11029</td>\n",
       "      <td>12260</td>\n",
       "      <td>76</td>\n",
       "      <td>4.0</td>\n",
       "      <td>4.000311</td>\n",
       "      <td>{'was_impossible': False}</td>\n",
       "      <td>0</td>\n",
       "      <td>98</td>\n",
       "      <td>0.000311</td>\n",
       "    </tr>\n",
       "  </tbody>\n",
       "</table>\n",
       "</div>"
      ],
      "text/plain": [
       "         uid   iid  rui       est                    details  Iu   Ui  \\\n",
       "14300   3571  7127  4.0  4.000025  {'was_impossible': False}   1    0   \n",
       "1428   17292   440  4.0  4.000104  {'was_impossible': False}   4   37   \n",
       "2216   36623   408  4.0  3.999868  {'was_impossible': False}   4   31   \n",
       "19850  11972   124  4.0  4.000143  {'was_impossible': False}   3   81   \n",
       "17425  50998  1743  4.0  4.000195  {'was_impossible': False}   1   10   \n",
       "8484   20670  2759  4.0  4.000224  {'was_impossible': False}   0    2   \n",
       "21394  41699  2997  4.0  4.000259  {'was_impossible': False}   2    8   \n",
       "22262   6000    54  4.0  4.000282  {'was_impossible': False}   2  153   \n",
       "958     1119  9601  4.0  4.000298  {'was_impossible': False}   0    2   \n",
       "11029  12260    76  4.0  4.000311  {'was_impossible': False}   0   98   \n",
       "\n",
       "            err  \n",
       "14300  0.000025  \n",
       "1428   0.000104  \n",
       "2216   0.000132  \n",
       "19850  0.000143  \n",
       "17425  0.000195  \n",
       "8484   0.000224  \n",
       "21394  0.000259  \n",
       "22262  0.000282  \n",
       "958    0.000298  \n",
       "11029  0.000311  "
      ]
     },
     "execution_count": 70,
     "metadata": {},
     "output_type": "execute_result"
    }
   ],
   "source": [
    "# Let's take a look at the best and worst predictions of the algorithm to see if there is something interesting\n",
    "best_predictions"
   ]
  },
  {
   "cell_type": "code",
   "execution_count": 71,
   "metadata": {},
   "outputs": [
    {
     "data": {
      "text/html": [
       "<div>\n",
       "<style scoped>\n",
       "    .dataframe tbody tr th:only-of-type {\n",
       "        vertical-align: middle;\n",
       "    }\n",
       "\n",
       "    .dataframe tbody tr th {\n",
       "        vertical-align: top;\n",
       "    }\n",
       "\n",
       "    .dataframe thead th {\n",
       "        text-align: right;\n",
       "    }\n",
       "</style>\n",
       "<table border=\"1\" class=\"dataframe\">\n",
       "  <thead>\n",
       "    <tr style=\"text-align: right;\">\n",
       "      <th></th>\n",
       "      <th>uid</th>\n",
       "      <th>iid</th>\n",
       "      <th>rui</th>\n",
       "      <th>est</th>\n",
       "      <th>details</th>\n",
       "      <th>Iu</th>\n",
       "      <th>Ui</th>\n",
       "      <th>err</th>\n",
       "    </tr>\n",
       "  </thead>\n",
       "  <tbody>\n",
       "    <tr>\n",
       "      <td>11946</td>\n",
       "      <td>16450</td>\n",
       "      <td>27</td>\n",
       "      <td>1.0</td>\n",
       "      <td>4.278038</td>\n",
       "      <td>{'was_impossible': False}</td>\n",
       "      <td>0</td>\n",
       "      <td>148</td>\n",
       "      <td>3.278038</td>\n",
       "    </tr>\n",
       "    <tr>\n",
       "      <td>24167</td>\n",
       "      <td>49298</td>\n",
       "      <td>992</td>\n",
       "      <td>1.0</td>\n",
       "      <td>4.288365</td>\n",
       "      <td>{'was_impossible': False}</td>\n",
       "      <td>2</td>\n",
       "      <td>15</td>\n",
       "      <td>3.288365</td>\n",
       "    </tr>\n",
       "    <tr>\n",
       "      <td>2797</td>\n",
       "      <td>6460</td>\n",
       "      <td>1322</td>\n",
       "      <td>1.0</td>\n",
       "      <td>4.326167</td>\n",
       "      <td>{'was_impossible': False}</td>\n",
       "      <td>3</td>\n",
       "      <td>15</td>\n",
       "      <td>3.326167</td>\n",
       "    </tr>\n",
       "    <tr>\n",
       "      <td>19805</td>\n",
       "      <td>40387</td>\n",
       "      <td>953</td>\n",
       "      <td>1.0</td>\n",
       "      <td>4.336785</td>\n",
       "      <td>{'was_impossible': False}</td>\n",
       "      <td>1</td>\n",
       "      <td>12</td>\n",
       "      <td>3.336785</td>\n",
       "    </tr>\n",
       "    <tr>\n",
       "      <td>10094</td>\n",
       "      <td>42798</td>\n",
       "      <td>289</td>\n",
       "      <td>1.0</td>\n",
       "      <td>4.347171</td>\n",
       "      <td>{'was_impossible': False}</td>\n",
       "      <td>2</td>\n",
       "      <td>52</td>\n",
       "      <td>3.347171</td>\n",
       "    </tr>\n",
       "    <tr>\n",
       "      <td>24792</td>\n",
       "      <td>49914</td>\n",
       "      <td>953</td>\n",
       "      <td>1.0</td>\n",
       "      <td>4.371176</td>\n",
       "      <td>{'was_impossible': False}</td>\n",
       "      <td>1</td>\n",
       "      <td>12</td>\n",
       "      <td>3.371176</td>\n",
       "    </tr>\n",
       "    <tr>\n",
       "      <td>8768</td>\n",
       "      <td>44850</td>\n",
       "      <td>80</td>\n",
       "      <td>1.0</td>\n",
       "      <td>4.374835</td>\n",
       "      <td>{'was_impossible': False}</td>\n",
       "      <td>1</td>\n",
       "      <td>72</td>\n",
       "      <td>3.374835</td>\n",
       "    </tr>\n",
       "    <tr>\n",
       "      <td>17190</td>\n",
       "      <td>44862</td>\n",
       "      <td>2795</td>\n",
       "      <td>1.0</td>\n",
       "      <td>4.393601</td>\n",
       "      <td>{'was_impossible': False}</td>\n",
       "      <td>0</td>\n",
       "      <td>11</td>\n",
       "      <td>3.393601</td>\n",
       "    </tr>\n",
       "    <tr>\n",
       "      <td>1641</td>\n",
       "      <td>30777</td>\n",
       "      <td>792</td>\n",
       "      <td>1.0</td>\n",
       "      <td>4.457458</td>\n",
       "      <td>{'was_impossible': False}</td>\n",
       "      <td>2</td>\n",
       "      <td>18</td>\n",
       "      <td>3.457458</td>\n",
       "    </tr>\n",
       "    <tr>\n",
       "      <td>18494</td>\n",
       "      <td>27645</td>\n",
       "      <td>389</td>\n",
       "      <td>1.0</td>\n",
       "      <td>4.485660</td>\n",
       "      <td>{'was_impossible': False}</td>\n",
       "      <td>3</td>\n",
       "      <td>33</td>\n",
       "      <td>3.485660</td>\n",
       "    </tr>\n",
       "  </tbody>\n",
       "</table>\n",
       "</div>"
      ],
      "text/plain": [
       "         uid   iid  rui       est                    details  Iu   Ui  \\\n",
       "11946  16450    27  1.0  4.278038  {'was_impossible': False}   0  148   \n",
       "24167  49298   992  1.0  4.288365  {'was_impossible': False}   2   15   \n",
       "2797    6460  1322  1.0  4.326167  {'was_impossible': False}   3   15   \n",
       "19805  40387   953  1.0  4.336785  {'was_impossible': False}   1   12   \n",
       "10094  42798   289  1.0  4.347171  {'was_impossible': False}   2   52   \n",
       "24792  49914   953  1.0  4.371176  {'was_impossible': False}   1   12   \n",
       "8768   44850    80  1.0  4.374835  {'was_impossible': False}   1   72   \n",
       "17190  44862  2795  1.0  4.393601  {'was_impossible': False}   0   11   \n",
       "1641   30777   792  1.0  4.457458  {'was_impossible': False}   2   18   \n",
       "18494  27645   389  1.0  4.485660  {'was_impossible': False}   3   33   \n",
       "\n",
       "            err  \n",
       "11946  3.278038  \n",
       "24167  3.288365  \n",
       "2797   3.326167  \n",
       "19805  3.336785  \n",
       "10094  3.347171  \n",
       "24792  3.371176  \n",
       "8768   3.374835  \n",
       "17190  3.393601  \n",
       "1641   3.457458  \n",
       "18494  3.485660  "
      ]
     },
     "execution_count": 71,
     "metadata": {},
     "output_type": "execute_result"
    }
   ],
   "source": [
    "worst_predictions"
   ]
  },
  {
   "cell_type": "markdown",
   "metadata": {},
   "source": [
    "### Predict top 10 items of a user"
   ]
  },
  {
   "cell_type": "code",
   "execution_count": 72,
   "metadata": {},
   "outputs": [],
   "source": [
    "user = 17292"
   ]
  },
  {
   "cell_type": "code",
   "execution_count": 73,
   "metadata": {},
   "outputs": [
    {
     "data": {
      "text/plain": [
       "36368             Fall of Giants (The Century Trilogy, #1)\n",
       "40752    Mennonite in a Little Black Dress: A Memoir of...\n",
       "52052    Born to Run: A Hidden Tribe, Superathletes, an...\n",
       "68123    The Golem and the Jinni (The Golem and the Jin...\n",
       "85597      Genghis Khan and the Making of the Modern World\n",
       "Name: title, dtype: object"
      ]
     },
     "execution_count": 73,
     "metadata": {},
     "output_type": "execute_result"
    }
   ],
   "source": [
    "df_combined[(df_combined['user_id'] == user)]['title']"
   ]
  },
  {
   "cell_type": "code",
   "execution_count": 74,
   "metadata": {},
   "outputs": [],
   "source": [
    "def predict_top10(user, alg):\n",
    "    user_book_ids = df_combined[(df_combined['user_id'] == user)]['book_id'].tolist() \n",
    "    unique_book_ids = df_combined['book_id'].drop_duplicates().tolist() \n",
    "    unrated_book_ids = [x for x in unique_book_ids if x not in user_book_ids]\n",
    "    pred = []\n",
    "    for book in unrated_book_ids:\n",
    "        predict = alg.predict(uid=user, iid=book)\n",
    "        pred.append([predict.est, predict.iid])\n",
    "    df = pd.DataFrame(pred, columns =['rating', 'book_id'])\n",
    "    df = df.sort_values(by=['rating'], ascending=False).head(10)\n",
    "    user_recommended_books = pd.merge(df, df_combined[['book_id', 'title', 'authors']], on = 'book_id')\n",
    "    return user_recommended_books.drop_duplicates()"
   ]
  },
  {
   "cell_type": "code",
   "execution_count": 75,
   "metadata": {},
   "outputs": [
    {
     "data": {
      "text/html": [
       "<div>\n",
       "<style scoped>\n",
       "    .dataframe tbody tr th:only-of-type {\n",
       "        vertical-align: middle;\n",
       "    }\n",
       "\n",
       "    .dataframe tbody tr th {\n",
       "        vertical-align: top;\n",
       "    }\n",
       "\n",
       "    .dataframe thead th {\n",
       "        text-align: right;\n",
       "    }\n",
       "</style>\n",
       "<table border=\"1\" class=\"dataframe\">\n",
       "  <thead>\n",
       "    <tr style=\"text-align: right;\">\n",
       "      <th></th>\n",
       "      <th>rating</th>\n",
       "      <th>book_id</th>\n",
       "      <th>title</th>\n",
       "      <th>authors</th>\n",
       "    </tr>\n",
       "  </thead>\n",
       "  <tbody>\n",
       "    <tr>\n",
       "      <td>0</td>\n",
       "      <td>4.477538</td>\n",
       "      <td>1636</td>\n",
       "      <td>Iron Kissed (Mercy Thompson, #3)</td>\n",
       "      <td>Patricia Briggs</td>\n",
       "    </tr>\n",
       "    <tr>\n",
       "      <td>14</td>\n",
       "      <td>4.433625</td>\n",
       "      <td>422</td>\n",
       "      <td>Harry Potter Boxset (Harry Potter, #1-7)</td>\n",
       "      <td>J.K. Rowling</td>\n",
       "    </tr>\n",
       "    <tr>\n",
       "      <td>47</td>\n",
       "      <td>4.386244</td>\n",
       "      <td>862</td>\n",
       "      <td>Words of Radiance (The Stormlight Archive, #2)</td>\n",
       "      <td>Brandon Sanderson</td>\n",
       "    </tr>\n",
       "    <tr>\n",
       "      <td>69</td>\n",
       "      <td>4.379760</td>\n",
       "      <td>728</td>\n",
       "      <td>Brown Bear, Brown Bear, What Do You See?</td>\n",
       "      <td>Bill Martin Jr., Eric Carle</td>\n",
       "    </tr>\n",
       "    <tr>\n",
       "      <td>84</td>\n",
       "      <td>4.378571</td>\n",
       "      <td>192</td>\n",
       "      <td>The Name of the Wind (The Kingkiller Chronicle...</td>\n",
       "      <td>Patrick Rothfuss</td>\n",
       "    </tr>\n",
       "    <tr>\n",
       "      <td>140</td>\n",
       "      <td>4.376808</td>\n",
       "      <td>1584</td>\n",
       "      <td>Rosencrantz and Guildenstern Are Dead</td>\n",
       "      <td>Tom Stoppard, Henry Popkin</td>\n",
       "    </tr>\n",
       "    <tr>\n",
       "      <td>163</td>\n",
       "      <td>4.369316</td>\n",
       "      <td>2907</td>\n",
       "      <td>Good Night, Gorilla</td>\n",
       "      <td>Peggy Rathmann</td>\n",
       "    </tr>\n",
       "    <tr>\n",
       "      <td>172</td>\n",
       "      <td>4.358283</td>\n",
       "      <td>1394</td>\n",
       "      <td>White Night (The Dresden Files, #9)</td>\n",
       "      <td>Jim Butcher</td>\n",
       "    </tr>\n",
       "    <tr>\n",
       "      <td>191</td>\n",
       "      <td>4.357791</td>\n",
       "      <td>3078</td>\n",
       "      <td>The Paper Bag Princess</td>\n",
       "      <td>Robert Munsch, Michael Martchenko</td>\n",
       "    </tr>\n",
       "    <tr>\n",
       "      <td>200</td>\n",
       "      <td>4.350713</td>\n",
       "      <td>2795</td>\n",
       "      <td>Archer's Voice</td>\n",
       "      <td>Mia Sheridan</td>\n",
       "    </tr>\n",
       "  </tbody>\n",
       "</table>\n",
       "</div>"
      ],
      "text/plain": [
       "       rating  book_id                                              title  \\\n",
       "0    4.477538     1636                   Iron Kissed (Mercy Thompson, #3)   \n",
       "14   4.433625      422           Harry Potter Boxset (Harry Potter, #1-7)   \n",
       "47   4.386244      862     Words of Radiance (The Stormlight Archive, #2)   \n",
       "69   4.379760      728           Brown Bear, Brown Bear, What Do You See?   \n",
       "84   4.378571      192  The Name of the Wind (The Kingkiller Chronicle...   \n",
       "140  4.376808     1584              Rosencrantz and Guildenstern Are Dead   \n",
       "163  4.369316     2907                                Good Night, Gorilla   \n",
       "172  4.358283     1394                White Night (The Dresden Files, #9)   \n",
       "191  4.357791     3078                             The Paper Bag Princess   \n",
       "200  4.350713     2795                                     Archer's Voice   \n",
       "\n",
       "                               authors  \n",
       "0                      Patricia Briggs  \n",
       "14                        J.K. Rowling  \n",
       "47                   Brandon Sanderson  \n",
       "69         Bill Martin Jr., Eric Carle  \n",
       "84                    Patrick Rothfuss  \n",
       "140         Tom Stoppard, Henry Popkin  \n",
       "163                     Peggy Rathmann  \n",
       "172                        Jim Butcher  \n",
       "191  Robert Munsch, Michael Martchenko  \n",
       "200                       Mia Sheridan  "
      ]
     },
     "execution_count": 75,
     "metadata": {},
     "output_type": "execute_result"
    }
   ],
   "source": [
    "predict_top10(17292, SVD_algo)"
   ]
  },
  {
   "cell_type": "code",
   "execution_count": 76,
   "metadata": {},
   "outputs": [
    {
     "data": {
      "text/html": [
       "<div>\n",
       "<style scoped>\n",
       "    .dataframe tbody tr th:only-of-type {\n",
       "        vertical-align: middle;\n",
       "    }\n",
       "\n",
       "    .dataframe tbody tr th {\n",
       "        vertical-align: top;\n",
       "    }\n",
       "\n",
       "    .dataframe thead th {\n",
       "        text-align: right;\n",
       "    }\n",
       "</style>\n",
       "<table border=\"1\" class=\"dataframe\">\n",
       "  <thead>\n",
       "    <tr style=\"text-align: right;\">\n",
       "      <th></th>\n",
       "      <th>rating</th>\n",
       "      <th>book_id</th>\n",
       "      <th>title</th>\n",
       "      <th>authors</th>\n",
       "    </tr>\n",
       "  </thead>\n",
       "  <tbody>\n",
       "    <tr>\n",
       "      <td>0</td>\n",
       "      <td>5.0</td>\n",
       "      <td>8560</td>\n",
       "      <td>What the Bleep Do We Know!?: Discovering the E...</td>\n",
       "      <td>William Arntz, Betsy Chasse, Mark Vicente</td>\n",
       "    </tr>\n",
       "    <tr>\n",
       "      <td>2</td>\n",
       "      <td>5.0</td>\n",
       "      <td>2729</td>\n",
       "      <td>Twenty Love Poems and a Song of Despair</td>\n",
       "      <td>Pablo Neruda, W.S. Merwin, Cristina García</td>\n",
       "    </tr>\n",
       "    <tr>\n",
       "      <td>6</td>\n",
       "      <td>5.0</td>\n",
       "      <td>8014</td>\n",
       "      <td>Psycho-Cybernetics, A New Way to Get More Livi...</td>\n",
       "      <td>Maxwell Maltz</td>\n",
       "    </tr>\n",
       "    <tr>\n",
       "      <td>8</td>\n",
       "      <td>5.0</td>\n",
       "      <td>3451</td>\n",
       "      <td>Letters to a Young Poet</td>\n",
       "      <td>Rainer Maria Rilke, Reginald Snell, Franz Xave...</td>\n",
       "    </tr>\n",
       "    <tr>\n",
       "      <td>16</td>\n",
       "      <td>5.0</td>\n",
       "      <td>7299</td>\n",
       "      <td>All-Star Superman, Vol. 2</td>\n",
       "      <td>Grant Morrison, Frank Quitely</td>\n",
       "    </tr>\n",
       "    <tr>\n",
       "      <td>17</td>\n",
       "      <td>5.0</td>\n",
       "      <td>5339</td>\n",
       "      <td>Hunter x Hunter, Vol. 01 (Hunter x Hunter, #1)</td>\n",
       "      <td>Yoshihiro Togashi, 冨樫 義博</td>\n",
       "    </tr>\n",
       "    <tr>\n",
       "      <td>18</td>\n",
       "      <td>5.0</td>\n",
       "      <td>8602</td>\n",
       "      <td>Mouse Paint</td>\n",
       "      <td>Ellen Stoll Walsh</td>\n",
       "    </tr>\n",
       "    <tr>\n",
       "      <td>20</td>\n",
       "      <td>5.0</td>\n",
       "      <td>5901</td>\n",
       "      <td>Ancillary Mercy (Imperial Radch #3)</td>\n",
       "      <td>Ann Leckie</td>\n",
       "    </tr>\n",
       "    <tr>\n",
       "      <td>21</td>\n",
       "      <td>5.0</td>\n",
       "      <td>4744</td>\n",
       "      <td>Games People Play</td>\n",
       "      <td>Eric Berne</td>\n",
       "    </tr>\n",
       "    <tr>\n",
       "      <td>23</td>\n",
       "      <td>5.0</td>\n",
       "      <td>9281</td>\n",
       "      <td>Agamemnon (Oresteia, #1)</td>\n",
       "      <td>Aeschylus, Judith Affleck, Philip de May, Patr...</td>\n",
       "    </tr>\n",
       "  </tbody>\n",
       "</table>\n",
       "</div>"
      ],
      "text/plain": [
       "    rating  book_id                                              title  \\\n",
       "0      5.0     8560  What the Bleep Do We Know!?: Discovering the E...   \n",
       "2      5.0     2729            Twenty Love Poems and a Song of Despair   \n",
       "6      5.0     8014  Psycho-Cybernetics, A New Way to Get More Livi...   \n",
       "8      5.0     3451                            Letters to a Young Poet   \n",
       "16     5.0     7299                          All-Star Superman, Vol. 2   \n",
       "17     5.0     5339     Hunter x Hunter, Vol. 01 (Hunter x Hunter, #1)   \n",
       "18     5.0     8602                                        Mouse Paint   \n",
       "20     5.0     5901                Ancillary Mercy (Imperial Radch #3)   \n",
       "21     5.0     4744                                  Games People Play   \n",
       "23     5.0     9281                           Agamemnon (Oresteia, #1)   \n",
       "\n",
       "                                              authors  \n",
       "0           William Arntz, Betsy Chasse, Mark Vicente  \n",
       "2          Pablo Neruda, W.S. Merwin, Cristina García  \n",
       "6                                       Maxwell Maltz  \n",
       "8   Rainer Maria Rilke, Reginald Snell, Franz Xave...  \n",
       "16                      Grant Morrison, Frank Quitely  \n",
       "17                           Yoshihiro Togashi, 冨樫 義博  \n",
       "18                                  Ellen Stoll Walsh  \n",
       "20                                         Ann Leckie  \n",
       "21                                         Eric Berne  \n",
       "23  Aeschylus, Judith Affleck, Philip de May, Patr...  "
      ]
     },
     "execution_count": 76,
     "metadata": {},
     "output_type": "execute_result"
    }
   ],
   "source": [
    "predict_top10(17292, algoKNN)"
   ]
  },
  {
   "cell_type": "markdown",
   "metadata": {},
   "source": [
    "## Conclusion\n",
    "\n",
    "As you saw in this article, there are a handful of methods one could use to build a recommendation system. The data scientist is tasked with finding and fine-tuning the methods that match the data better.\n",
    "\n",
    "We’ve shown how to implement 3 recommendation engine models:\n",
    "\n",
    "    Popularity model\n",
    "    Content based model\n",
    "    Recomendation with Surprise\n",
    "    \n",
    "    \n",
    "All methods returns different results, but SVD should be more acurate than KNN."
   ]
  },
  {
   "cell_type": "code",
   "execution_count": null,
   "metadata": {},
   "outputs": [],
   "source": []
  }
 ],
 "metadata": {
  "kernelspec": {
   "display_name": "Python 3",
   "language": "python",
   "name": "python3"
  },
  "language_info": {
   "codemirror_mode": {
    "name": "ipython",
    "version": 3
   },
   "file_extension": ".py",
   "mimetype": "text/x-python",
   "name": "python",
   "nbconvert_exporter": "python",
   "pygments_lexer": "ipython3",
   "version": "3.7.4"
  }
 },
 "nbformat": 4,
 "nbformat_minor": 2
}
